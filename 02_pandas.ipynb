{
  "cells": [
    {
      "cell_type": "markdown",
      "metadata": {
        "id": "view-in-github",
        "colab_type": "text"
      },
      "source": [
        "<a href=\"https://colab.research.google.com/github/FelixBuk/tod-Colab/blob/main/02_pandas.ipynb\" target=\"_parent\"><img src=\"https://colab.research.google.com/assets/colab-badge.svg\" alt=\"Open In Colab\"/></a>"
      ]
    },
    {
      "cell_type": "markdown",
      "metadata": {
        "id": "9C6Iq7hkXjg0"
      },
      "source": [
        "# Pandas"
      ]
    },
    {
      "cell_type": "markdown",
      "metadata": {
        "id": "3oh7-PweXjg3"
      },
      "source": [
        "Материалы:\n",
        "* Макрушин С.В. \"Лекция 2: Библиотека Pandas\"\n",
        "* https://pandas.pydata.org/docs/user_guide/index.html#\n",
        "* https://pandas.pydata.org/docs/reference/index.html\n",
        "* Уэс Маккини. Python и анализ данных"
      ]
    },
    {
      "cell_type": "markdown",
      "metadata": {
        "id": "wHN1wKdZXjg4"
      },
      "source": [
        "## Задачи для совместного разбора"
      ]
    },
    {
      "cell_type": "markdown",
      "metadata": {
        "id": "iQKU2HYiXjg4"
      },
      "source": [
        "1. Загрузите данные из файла `sp500hst.txt` и обозначьте столбцы в соответствии с содержимым: `\"date\", \"ticker\", \"open\", \"high\", \"low\", \"close\", \"volume\"`."
      ]
    },
    {
      "cell_type": "code",
      "source": [
        "filesp = pd.read_csv(r'/content/sp500hst.txt', delimiter=',', names=[\"date\", \"ticker\", \"open\", \"high\", \"low\", \"close\", \"volume\"])\n",
        "print(filesp)"
      ],
      "metadata": {
        "colab": {
          "base_uri": "https://localhost:8080/"
        },
        "id": "6hWv-ugEKTkt",
        "outputId": "c17fc999-bced-4c0f-f129-3bb843e20b9f"
      },
      "execution_count": null,
      "outputs": [
        {
          "output_type": "stream",
          "name": "stdout",
          "text": [
            "            date ticker   open     high     low  close  volume\n",
            "0       20090821      A  25.60  25.6100  25.220  25.55   34758\n",
            "1       20090824      A  25.64  25.7400  25.330  25.50   22247\n",
            "2       20090825      A  25.50  25.7000  25.225  25.34   30891\n",
            "3       20090826      A  25.32  25.6425  25.145  25.48   33334\n",
            "4       20090827      A  25.50  25.5700  25.230  25.54   70176\n",
            "...          ...    ...    ...      ...     ...    ...     ...\n",
            "122569  20100813    ZMH  51.72  51.9000  51.380  51.44   14561\n",
            "122570  20100816    ZMH  51.13  51.4700  50.600  51.00   13489\n",
            "122571  20100817    ZMH  51.14  51.6000  50.890  51.21   20498\n",
            "122572  20100819    ZMH  51.63  51.6300  50.170  50.22   18259\n",
            "122573  20100820    ZMH  50.03  50.5500  49.480  49.82   17792\n",
            "\n",
            "[122574 rows x 7 columns]\n"
          ]
        }
      ]
    },
    {
      "cell_type": "markdown",
      "metadata": {
        "id": "Crnlfxx4Xjg4"
      },
      "source": [
        "2. Рассчитайте среднее значение показателей для каждого из столбцов c номерами 3-6."
      ]
    },
    {
      "cell_type": "code",
      "source": [
        "print(filesp.iloc[:, 2].mean())\n",
        "print(filesp.iloc[:, 3].mean())\n",
        "print(filesp.iloc[:, 4].mean())"
      ],
      "metadata": {
        "colab": {
          "base_uri": "https://localhost:8080/"
        },
        "id": "FYFRZC1SKULV",
        "outputId": "9a05b17c-c3bc-4f7d-9bdc-ac4b31307720"
      },
      "execution_count": null,
      "outputs": [
        {
          "output_type": "stream",
          "name": "stdout",
          "text": [
            "42.59545765904678\n",
            "43.102243387667855\n",
            "42.05446366521448\n"
          ]
        }
      ]
    },
    {
      "cell_type": "markdown",
      "metadata": {
        "id": "UaMYF-smXjg5"
      },
      "source": [
        "3. Добавьте столбец, содержащий только число месяца, к которому относится дата."
      ]
    },
    {
      "cell_type": "code",
      "source": [
        "filesp['date'] = pd.to_datetime(filesp['date'])\n",
        "filesp['day_date'] = filesp['date'].dt.day\n",
        "print(filesp)"
      ],
      "metadata": {
        "colab": {
          "base_uri": "https://localhost:8080/"
        },
        "id": "V26luNjTKUj-",
        "outputId": "8a8a14e7-6d5a-4a24-db1b-c916d8d9803a"
      },
      "execution_count": null,
      "outputs": [
        {
          "output_type": "stream",
          "name": "stdout",
          "text": [
            "                                date ticker   open     high     low  close  \\\n",
            "0      1970-01-01 00:00:00.020090821      A  25.60  25.6100  25.220  25.55   \n",
            "1      1970-01-01 00:00:00.020090824      A  25.64  25.7400  25.330  25.50   \n",
            "2      1970-01-01 00:00:00.020090825      A  25.50  25.7000  25.225  25.34   \n",
            "3      1970-01-01 00:00:00.020090826      A  25.32  25.6425  25.145  25.48   \n",
            "4      1970-01-01 00:00:00.020090827      A  25.50  25.5700  25.230  25.54   \n",
            "...                              ...    ...    ...      ...     ...    ...   \n",
            "122569 1970-01-01 00:00:00.020100813    ZMH  51.72  51.9000  51.380  51.44   \n",
            "122570 1970-01-01 00:00:00.020100816    ZMH  51.13  51.4700  50.600  51.00   \n",
            "122571 1970-01-01 00:00:00.020100817    ZMH  51.14  51.6000  50.890  51.21   \n",
            "122572 1970-01-01 00:00:00.020100819    ZMH  51.63  51.6300  50.170  50.22   \n",
            "122573 1970-01-01 00:00:00.020100820    ZMH  50.03  50.5500  49.480  49.82   \n",
            "\n",
            "        volume  day_date  \n",
            "0        34758         1  \n",
            "1        22247         1  \n",
            "2        30891         1  \n",
            "3        33334         1  \n",
            "4        70176         1  \n",
            "...        ...       ...  \n",
            "122569   14561         1  \n",
            "122570   13489         1  \n",
            "122571   20498         1  \n",
            "122572   18259         1  \n",
            "122573   17792         1  \n",
            "\n",
            "[122574 rows x 8 columns]\n"
          ]
        }
      ]
    },
    {
      "cell_type": "markdown",
      "metadata": {
        "id": "_JgOpNawXjg5"
      },
      "source": [
        "4. Рассчитайте суммарный объем торгов для одинаковых значений тикеров."
      ]
    },
    {
      "cell_type": "code",
      "source": [
        "#print(filesp['open'].value_counts().rename(index=filesp['ticker']))\n",
        "spsumma = filesp.groupby(['ticker'])['open'].transform('sum').rename(index=filesp['ticker'])\n",
        "print(spsumma)"
      ],
      "metadata": {
        "colab": {
          "base_uri": "https://localhost:8080/"
        },
        "id": "TTsOPTQwKVAN",
        "outputId": "e87c81d8-48eb-4f3e-c898-ea95e24aafaa"
      },
      "execution_count": null,
      "outputs": [
        {
          "output_type": "stream",
          "name": "stdout",
          "text": [
            "A       7407.54\n",
            "A       7407.54\n",
            "A       7407.54\n",
            "A       7407.54\n",
            "A       7407.54\n",
            "         ...   \n",
            "ZMH    13774.14\n",
            "ZMH    13774.14\n",
            "ZMH    13774.14\n",
            "ZMH    13774.14\n",
            "ZMH    13774.14\n",
            "Name: open, Length: 122574, dtype: float64\n"
          ]
        }
      ]
    },
    {
      "cell_type": "markdown",
      "metadata": {
        "id": "2xfPY_mCXjg5"
      },
      "source": [
        "5. Загрузите данные из файла sp500hst.txt и обозначьте столбцы в соответствии с содержимым: \"date\", \"ticker\", \"open\", \"high\", \"low\", \"close\", \"volume\". Добавьте столбец с расшифровкой названия тикера, используя данные из файла `sp_data2.csv` . В случае нехватки данных об именах тикеров корректно обработать их."
      ]
    },
    {
      "cell_type": "code",
      "source": [
        "filesp = pd.read_csv(r'/content/sp500hst.txt', delimiter=',', names=[\"date\", \"ticker\", \"open\", \"high\", \"low\", \"close\", \"volume\"])\n",
        "filedata = pd.read_csv(r'/content/sp_data2.csv', delimiter=';', names = ['ticker', 'rashifr', 'percent'])\n",
        "two_files = pd.merge(filesp, filedata, on = 'ticker', how='outer')\n",
        "filesp['rashifrovka'] = two_files['rashifr'].fillna('No data')\n",
        "print(filesp)"
      ],
      "metadata": {
        "colab": {
          "base_uri": "https://localhost:8080/"
        },
        "id": "C1ISj0cQKVZt",
        "outputId": "d6a56aae-e029-4f67-fdad-b50c702d1ad7"
      },
      "execution_count": null,
      "outputs": [
        {
          "output_type": "stream",
          "name": "stdout",
          "text": [
            "            date ticker   open     high     low  close  volume  \\\n",
            "0       20090821      A  25.60  25.6100  25.220  25.55   34758   \n",
            "1       20090824      A  25.64  25.7400  25.330  25.50   22247   \n",
            "2       20090825      A  25.50  25.7000  25.225  25.34   30891   \n",
            "3       20090826      A  25.32  25.6425  25.145  25.48   33334   \n",
            "4       20090827      A  25.50  25.5700  25.230  25.54   70176   \n",
            "...          ...    ...    ...      ...     ...    ...     ...   \n",
            "122569  20100813    ZMH  51.72  51.9000  51.380  51.44   14561   \n",
            "122570  20100816    ZMH  51.13  51.4700  50.600  51.00   13489   \n",
            "122571  20100817    ZMH  51.14  51.6000  50.890  51.21   20498   \n",
            "122572  20100819    ZMH  51.63  51.6300  50.170  50.22   18259   \n",
            "122573  20100820    ZMH  50.03  50.5500  49.480  49.82   17792   \n",
            "\n",
            "                 rashifrovka  \n",
            "0       Agilent Technologies  \n",
            "1       Agilent Technologies  \n",
            "2       Agilent Technologies  \n",
            "3       Agilent Technologies  \n",
            "4       Agilent Technologies  \n",
            "...                      ...  \n",
            "122569               No data  \n",
            "122570               No data  \n",
            "122571               No data  \n",
            "122572               No data  \n",
            "122573               No data  \n",
            "\n",
            "[122574 rows x 8 columns]\n"
          ]
        }
      ]
    },
    {
      "cell_type": "markdown",
      "metadata": {
        "id": "Wwry-UPQXjg6"
      },
      "source": [
        "## Лабораторная работа №2"
      ]
    },
    {
      "cell_type": "markdown",
      "metadata": {
        "id": "mu0-z_E6Xjg6"
      },
      "source": [
        "### Базовые операции с `DataFrame`"
      ]
    },
    {
      "cell_type": "markdown",
      "metadata": {
        "id": "Lyj-dPjoXjg6"
      },
      "source": [
        "1.1 В файлах `recipes_sample.csv` и `reviews_sample.csv` находится информация об рецептах блюд и отзывах на эти рецепты соответственно. Загрузите данные из файлов в виде `pd.DataFrame` с названиями `recipes` и `reviews`. Обратите внимание на корректное считывание столбца с индексами в таблице `reviews` (безымянный столбец)."
      ]
    },
    {
      "cell_type": "code",
      "source": [
        "import csv\n",
        "import numpy as np\n",
        "import pandas as pd\n",
        "review = pd.read_csv(r'/content/reviews_sample.csv', delimiter=',')\n",
        "recipe = pd.read_csv(r'/content/recipes_sample.csv', delimiter=',')\n",
        "recipe['submitted'] = pd.to_datetime(recipe['submitted'])\n",
        "print(review)\n",
        "print(recipe)"
      ],
      "metadata": {
        "colab": {
          "base_uri": "https://localhost:8080/"
        },
        "id": "wQlFm1w39W_w",
        "outputId": "b52a9b1a-1d38-4b81-83be-8ed3d6f2b98f"
      },
      "execution_count": null,
      "outputs": [
        {
          "output_type": "stream",
          "name": "stdout",
          "text": [
            "        Unnamed: 0     user_id  recipe_id        date  rating  \\\n",
            "0           370476       21752      57993  2003-05-01       5   \n",
            "1           624300      431813     142201  2007-09-16       5   \n",
            "2           187037      400708     252013  2008-01-10       4   \n",
            "3           706134  2001852463     404716  2017-12-11       5   \n",
            "4           312179       95810     129396  2008-03-14       5   \n",
            "...            ...         ...        ...         ...     ...   \n",
            "126691     1013457     1270706     335534  2009-05-17       4   \n",
            "126692      158736     2282344       8701  2012-06-03       0   \n",
            "126693     1059834      689540     222001  2008-04-08       5   \n",
            "126694      453285  2000242659     354979  2015-06-02       5   \n",
            "126695      691207      463435     415599  2010-09-30       5   \n",
            "\n",
            "                                                   review  \n",
            "0       Last week whole sides of frozen salmon fillet ...  \n",
            "1       So simple and so tasty!  I used a yellow capsi...  \n",
            "2       Very nice breakfast HH, easy to make and yummy...  \n",
            "3       These are a favorite for the holidays and so e...  \n",
            "4       Excellent soup!  The tomato flavor is just gre...  \n",
            "...                                                   ...  \n",
            "126691  This recipe was great! I made it last night. I...  \n",
            "126692  This recipe is outstanding. I followed the rec...  \n",
            "126693  Well, we were not a crowd but it was a fabulou...  \n",
            "126694  I have been a steak eater and dedicated BBQ gr...  \n",
            "126695  Wonderful and simple to prepare seasoning blen...  \n",
            "\n",
            "[126696 rows x 6 columns]\n",
            "                                               name      id  minutes  \\\n",
            "0             george s at the cove  black bean soup   44123       90   \n",
            "1                healthy for them  yogurt popsicles   67664       10   \n",
            "2                      i can t believe it s spinach   38798       30   \n",
            "3                              italian  gut busters   35173       45   \n",
            "4          love is in the air  beef fondue   sauces   84797       25   \n",
            "...                                             ...     ...      ...   \n",
            "29995  zurie s holey rustic olive and cheddar bread  267661       80   \n",
            "29996          zwetschgenkuchen  bavarian plum cake  386977      240   \n",
            "29997   zwiebelkuchen   southwest german onion cake  103312       75   \n",
            "29998                                   zydeco soup  486161       60   \n",
            "29999        cookies by design   cookies on a stick  298512       29   \n",
            "\n",
            "       contributor_id  submitted  n_steps  \\\n",
            "0               35193 2002-10-25      NaN   \n",
            "1               91970 2003-07-26      NaN   \n",
            "2                1533 2002-08-29      NaN   \n",
            "3               22724 2002-07-27      NaN   \n",
            "4                4470 2004-02-23      4.0   \n",
            "...               ...        ...      ...   \n",
            "29995          200862 2007-11-25     16.0   \n",
            "29996          177443 2009-08-24      NaN   \n",
            "29997          161745 2004-11-03      NaN   \n",
            "29998          227978 2012-08-29      NaN   \n",
            "29999          506822 2008-04-15      9.0   \n",
            "\n",
            "                                             description  n_ingredients  \n",
            "0      an original recipe created by chef scott meska...           18.0  \n",
            "1      my children and their friends ask for my homem...            NaN  \n",
            "2                these were so go, it surprised even me.            8.0  \n",
            "3      my sister-in-law made these for us at a family...            NaN  \n",
            "4      i think a fondue is a very romantic casual din...            NaN  \n",
            "...                                                  ...            ...  \n",
            "29995  this is based on a french recipe but i changed...           10.0  \n",
            "29996  this is a traditional fresh plum cake, thought...           11.0  \n",
            "29997  this is a traditional late summer early fall s...            NaN  \n",
            "29998  this is a delicious soup that i originally fou...            NaN  \n",
            "29999  i've heard of the 'cookies by design' company,...           10.0  \n",
            "\n",
            "[30000 rows x 8 columns]\n"
          ]
        }
      ]
    },
    {
      "cell_type": "code",
      "source": [],
      "metadata": {
        "id": "3ukm1zLLUr_q"
      },
      "execution_count": null,
      "outputs": []
    },
    {
      "cell_type": "markdown",
      "metadata": {
        "id": "pyVATeFEXjg6"
      },
      "source": [
        "1.2 Для каждой из таблиц выведите основные параметры:\n",
        "* количество точек данных (строк);\n",
        "* количество столбцов;\n",
        "* тип данных каждого столбца."
      ]
    },
    {
      "cell_type": "code",
      "source": [
        "count_row_review = review.shape[0]\n",
        "count_col_review = review.shape[1]\n",
        "types_review = review.dtypes\n",
        "\n",
        "count_row_recipe = recipe.shape[0]\n",
        "count_col_recipe = recipe.shape[1]\n",
        "types_recipe = recipe.dtypes\n",
        "\n",
        "print(f'Количество точек данных (строк): {count_row_review}, количество столбцов: {count_col_review}')\n",
        "print(types_review)\n",
        "\n",
        "print(f'Количество точек данных (строк): {count_row_recipe}, количество столбцов: {count_col_recipe}')\n",
        "print(types_recipe)"
      ],
      "metadata": {
        "id": "a8WULFak9nJ3",
        "colab": {
          "base_uri": "https://localhost:8080/"
        },
        "outputId": "f87aa3bd-ff00-42da-b480-38325983027e"
      },
      "execution_count": null,
      "outputs": [
        {
          "output_type": "stream",
          "name": "stdout",
          "text": [
            "Количество точек данных (строк): 126696, количество столбцов: 6\n",
            "Unnamed: 0     int64\n",
            "user_id        int64\n",
            "recipe_id      int64\n",
            "date          object\n",
            "rating         int64\n",
            "review        object\n",
            "dtype: object\n",
            "Количество точек данных (строк): 30000, количество столбцов: 8\n",
            "name               object\n",
            "id                  int64\n",
            "minutes             int64\n",
            "contributor_id      int64\n",
            "submitted          object\n",
            "n_steps           float64\n",
            "description        object\n",
            "n_ingredients     float64\n",
            "dtype: object\n"
          ]
        }
      ]
    },
    {
      "cell_type": "markdown",
      "metadata": {
        "id": "PA0mGM51Xjg7"
      },
      "source": [
        "1.3 Исследуйте, в каких столбцах таблиц содержатся пропуски. Посчитайте долю строк, содержащих пропуски, в отношении к общему количеству строк."
      ]
    },
    {
      "cell_type": "code",
      "source": [
        "for i1, i2 in zip(review.isnull(), review.isnull().sum()):\n",
        "    if i2 != 0:\n",
        "        print(i1)\n",
        "for i1, i2 in zip(recipe.isnull(), recipe.isnull().sum()):\n",
        "    if i2 != 0:\n",
        "        print(i1)\n",
        "print(review.isnull().sum().sum()/count_row_review)\n",
        "print(recipe.isnull().sum().sum()/count_row_recipe)"
      ],
      "metadata": {
        "colab": {
          "base_uri": "https://localhost:8080/"
        },
        "id": "qCXaJrnBVMlG",
        "outputId": "7266df24-ce53-4872-e6d1-e0a1944980df"
      },
      "execution_count": null,
      "outputs": [
        {
          "output_type": "stream",
          "name": "stdout",
          "text": [
            "review\n",
            "n_steps\n",
            "description\n",
            "n_ingredients\n",
            "0.00013417945317926376\n",
            "0.6897666666666666\n"
          ]
        }
      ]
    },
    {
      "cell_type": "markdown",
      "metadata": {
        "id": "BU3hec9nXjg7"
      },
      "source": [
        "1.4 Рассчитайте среднее значение для каждого из числовых столбцов (где это имеет смысл)."
      ]
    },
    {
      "cell_type": "code",
      "source": [
        "#print(review.mean(numeric_only='int64'))\n",
        "#print(recipe.mean(numeric_only='int64'))\n",
        "print(recipe.mean())\n",
        "print(review.mean())"
      ],
      "metadata": {
        "colab": {
          "base_uri": "https://localhost:8080/"
        },
        "id": "2uPlDZuNVNNV",
        "outputId": "48971410-c0ae-499c-a1f6-93994a468bce"
      },
      "execution_count": null,
      "outputs": [
        {
          "output_type": "stream",
          "name": "stderr",
          "text": [
            "<ipython-input-5-8c089069f5a1>:3: FutureWarning: Dropping of nuisance columns in DataFrame reductions (with 'numeric_only=None') is deprecated; in a future version this will raise TypeError.  Select only valid columns before calling the reduction.\n",
            "  print(recipe.mean())\n"
          ]
        },
        {
          "output_type": "stream",
          "name": "stdout",
          "text": [
            "id                2.218793e+05\n",
            "minutes           1.233581e+02\n",
            "contributor_id    5.635901e+06\n",
            "n_steps           9.805582e+00\n",
            "n_ingredients     9.008286e+00\n",
            "dtype: float64\n",
            "Unnamed: 0    5.660898e+05\n",
            "user_id       1.408013e+08\n",
            "recipe_id     1.600944e+05\n",
            "rating        4.410802e+00\n",
            "dtype: float64\n"
          ]
        },
        {
          "output_type": "stream",
          "name": "stderr",
          "text": [
            "<ipython-input-5-8c089069f5a1>:4: FutureWarning: Dropping of nuisance columns in DataFrame reductions (with 'numeric_only=None') is deprecated; in a future version this will raise TypeError.  Select only valid columns before calling the reduction.\n",
            "  print(review.mean())\n"
          ]
        }
      ]
    },
    {
      "cell_type": "markdown",
      "metadata": {
        "id": "MQnpmANiXjg7"
      },
      "source": [
        "1.5 Создайте серию из 10 случайных названий рецептов."
      ]
    },
    {
      "cell_type": "code",
      "source": [
        "n1 = np.random.randint(0, count_row_recipe, 10)\n",
        "print(recipe.name[n1])"
      ],
      "metadata": {
        "colab": {
          "base_uri": "https://localhost:8080/"
        },
        "id": "kiYZP45dVNxK",
        "outputId": "8f2f0aae-242a-4d62-cc92-ea3db6d04bc1"
      },
      "execution_count": null,
      "outputs": [
        {
          "output_type": "stream",
          "name": "stdout",
          "text": [
            "4405     cajun pot roast with corn and tomatoes\n",
            "2564              beautiful baked chicken kievs\n",
            "9165                           date nut muffins\n",
            "524                            almond joy latte\n",
            "18870                     nut cake  gluten free\n",
            "5236                       cheesy cheeseburgers\n",
            "6802       chocolate ancho chile flourless cake\n",
            "15206                    karen s macaroni salad\n",
            "26527                            sushi sandwich\n",
            "15760         lefse from norway to north dakota\n",
            "Name: name, dtype: object\n"
          ]
        }
      ]
    },
    {
      "cell_type": "markdown",
      "metadata": {
        "id": "2FRhIA1mXjg7"
      },
      "source": [
        "1.6 Измените индекс в таблице `reviews`, пронумеровав строки, начиная с нуля."
      ]
    },
    {
      "cell_type": "code",
      "source": [
        "review.index = pd.RangeIndex(0, count_row_review)\n",
        "print(review)"
      ],
      "metadata": {
        "colab": {
          "base_uri": "https://localhost:8080/"
        },
        "id": "9p6-gZmKVOnN",
        "outputId": "a7a73f83-c52e-4996-85b0-6d79294dd0fa"
      },
      "execution_count": null,
      "outputs": [
        {
          "output_type": "stream",
          "name": "stdout",
          "text": [
            "        Unnamed: 0     user_id  recipe_id        date  rating  \\\n",
            "0           370476       21752      57993  2003-05-01       5   \n",
            "1           624300      431813     142201  2007-09-16       5   \n",
            "2           187037      400708     252013  2008-01-10       4   \n",
            "3           706134  2001852463     404716  2017-12-11       5   \n",
            "4           312179       95810     129396  2008-03-14       5   \n",
            "...            ...         ...        ...         ...     ...   \n",
            "126691     1013457     1270706     335534  2009-05-17       4   \n",
            "126692      158736     2282344       8701  2012-06-03       0   \n",
            "126693     1059834      689540     222001  2008-04-08       5   \n",
            "126694      453285  2000242659     354979  2015-06-02       5   \n",
            "126695      691207      463435     415599  2010-09-30       5   \n",
            "\n",
            "                                                   review  \n",
            "0       Last week whole sides of frozen salmon fillet ...  \n",
            "1       So simple and so tasty!  I used a yellow capsi...  \n",
            "2       Very nice breakfast HH, easy to make and yummy...  \n",
            "3       These are a favorite for the holidays and so e...  \n",
            "4       Excellent soup!  The tomato flavor is just gre...  \n",
            "...                                                   ...  \n",
            "126691  This recipe was great! I made it last night. I...  \n",
            "126692  This recipe is outstanding. I followed the rec...  \n",
            "126693  Well, we were not a crowd but it was a fabulou...  \n",
            "126694  I have been a steak eater and dedicated BBQ gr...  \n",
            "126695  Wonderful and simple to prepare seasoning blen...  \n",
            "\n",
            "[126696 rows x 6 columns]\n"
          ]
        }
      ]
    },
    {
      "cell_type": "markdown",
      "metadata": {
        "id": "_sxTiMblXjg7"
      },
      "source": [
        "1.7 Выведите информацию о рецептах, время выполнения которых не больше 20 минут и кол-во ингредиентов в которых не больше 5."
      ]
    },
    {
      "cell_type": "code",
      "source": [
        "print(recipe[(recipe.minutes<=20) & (recipe.n_ingredients<=5)])"
      ],
      "metadata": {
        "colab": {
          "base_uri": "https://localhost:8080/"
        },
        "id": "AhIKg1C-VPO-",
        "outputId": "b2ab02f0-2dc4-44a5-b990-b0c78f37956d"
      },
      "execution_count": null,
      "outputs": [
        {
          "output_type": "stream",
          "name": "stdout",
          "text": [
            "                                                    name      id  minutes  \\\n",
            "28                                   quick biscuit bread  302399       20   \n",
            "60                         peas  fit for a king or queen  303944       20   \n",
            "90                     hawaiian sunrise           mimosa  100837        5   \n",
            "91            tasty dish s   banana pudding in 2 minutes  286484        2   \n",
            "94                                    1 minute meatballs   11361       13   \n",
            "...                                                  ...     ...      ...   \n",
            "29873  zip and steam red potatoes with butter and garlic  304922       13   \n",
            "29874                          ziplock vanilla ice cream   74250       10   \n",
            "29905                      zucchini and corn with cheese  256177       15   \n",
            "29980               zucchini with jalapeno monterey jack  320622       10   \n",
            "29983                          zucchini with serrano ham  162411       15   \n",
            "\n",
            "       contributor_id   submitted  n_steps  \\\n",
            "28             213909  2008-05-06     11.0   \n",
            "60             213909  2008-05-16      NaN   \n",
            "90              58104  2004-09-29      4.0   \n",
            "91              47892  2008-02-13      NaN   \n",
            "94               4470  2001-09-03      NaN   \n",
            "...               ...         ...      ...   \n",
            "29873          724218  2008-05-27      9.0   \n",
            "29874           24386  2003-10-29      8.0   \n",
            "29905          305531  2007-09-29      4.0   \n",
            "29980          305531  2008-08-20      3.0   \n",
            "29983          152500  2006-03-31      6.0   \n",
            "\n",
            "                                             description  n_ingredients  \n",
            "28     this is a wonderful quick bread to make as an ...            5.0  \n",
            "60     this recipe is so simple and the flavors are s...            5.0  \n",
            "90     pineapple mimosa was changed to hawaiian sunri...            3.0  \n",
            "91     \"mmmm, i love bananas!\" a --tasty dish-- origi...            4.0  \n",
            "94     this is a real short cut for cooks in a hurry....            2.0  \n",
            "...                                                  ...            ...  \n",
            "29873  i haven't tried this yet, but i am going to so...            5.0  \n",
            "29874  a fun thing for kids to do. may want to use mi...            3.0  \n",
            "29905  from betty crocker fresh spring recipes. i lik...            5.0  \n",
            "29980                                  simple and yummy!            3.0  \n",
            "29983  this dish is from tim malzer, a german chef wh...            5.0  \n",
            "\n",
            "[2019 rows x 8 columns]\n"
          ]
        }
      ]
    },
    {
      "cell_type": "markdown",
      "metadata": {
        "id": "nlHNNju_Xjg7"
      },
      "source": [
        "### Работа с датами в `pandas`"
      ]
    },
    {
      "cell_type": "markdown",
      "metadata": {
        "id": "RCbu5Yh4Xjg8"
      },
      "source": [
        "2.1 Преобразуйте столбец `submitted` из таблицы `recipes` в формат времени. Модифицируйте решение задачи 1.1 так, чтобы считать столбец сразу в нужном формате."
      ]
    },
    {
      "cell_type": "code",
      "source": [
        "recipe['submitted'] = pd.to_datetime(recipe['submitted'])\n",
        "print(recipe.dtypes)"
      ],
      "metadata": {
        "colab": {
          "base_uri": "https://localhost:8080/"
        },
        "id": "DNvJcqviAqx8",
        "outputId": "f6a03805-3603-46da-d09a-c7ae492c66f3"
      },
      "execution_count": null,
      "outputs": [
        {
          "output_type": "stream",
          "name": "stdout",
          "text": [
            "name                      object\n",
            "id                         int64\n",
            "minutes                    int64\n",
            "contributor_id             int64\n",
            "submitted         datetime64[ns]\n",
            "n_steps                  float64\n",
            "description               object\n",
            "n_ingredients            float64\n",
            "dtype: object\n"
          ]
        }
      ]
    },
    {
      "cell_type": "markdown",
      "metadata": {
        "id": "Dh6mWTf4Xjg8"
      },
      "source": [
        "2.2 Выведите информацию о рецептах, добавленных в датасет не позже 2010 года."
      ]
    },
    {
      "cell_type": "code",
      "source": [
        "print(recipe[recipe['submitted'].dt.year <= 2010])"
      ],
      "metadata": {
        "colab": {
          "base_uri": "https://localhost:8080/"
        },
        "id": "6sYL64o_ArOz",
        "outputId": "07b36b07-dec6-4cb1-aed0-a2b061a033d9"
      },
      "execution_count": null,
      "outputs": [
        {
          "output_type": "stream",
          "name": "stdout",
          "text": [
            "                                               name      id  minutes  \\\n",
            "0             george s at the cove  black bean soup   44123       90   \n",
            "1                healthy for them  yogurt popsicles   67664       10   \n",
            "2                      i can t believe it s spinach   38798       30   \n",
            "3                              italian  gut busters   35173       45   \n",
            "4          love is in the air  beef fondue   sauces   84797       25   \n",
            "...                                             ...     ...      ...   \n",
            "29993                     zuni caf zucchini pickles  316950     2895   \n",
            "29995  zurie s holey rustic olive and cheddar bread  267661       80   \n",
            "29996          zwetschgenkuchen  bavarian plum cake  386977      240   \n",
            "29997   zwiebelkuchen   southwest german onion cake  103312       75   \n",
            "29999        cookies by design   cookies on a stick  298512       29   \n",
            "\n",
            "       contributor_id  submitted  n_steps  \\\n",
            "0               35193 2002-10-25      NaN   \n",
            "1               91970 2003-07-26      NaN   \n",
            "2                1533 2002-08-29      NaN   \n",
            "3               22724 2002-07-27      NaN   \n",
            "4                4470 2004-02-23      4.0   \n",
            "...               ...        ...      ...   \n",
            "29993           62264 2008-07-31      NaN   \n",
            "29995          200862 2007-11-25     16.0   \n",
            "29996          177443 2009-08-24      NaN   \n",
            "29997          161745 2004-11-03      NaN   \n",
            "29999          506822 2008-04-15      9.0   \n",
            "\n",
            "                                             description  n_ingredients  \n",
            "0      an original recipe created by chef scott meska...           18.0  \n",
            "1      my children and their friends ask for my homem...            NaN  \n",
            "2                these were so go, it surprised even me.            8.0  \n",
            "3      my sister-in-law made these for us at a family...            NaN  \n",
            "4      i think a fondue is a very romantic casual din...            NaN  \n",
            "...                                                  ...            ...  \n",
            "29993  refrigerator pickles for some of the zucchini ...            8.0  \n",
            "29995  this is based on a french recipe but i changed...           10.0  \n",
            "29996  this is a traditional fresh plum cake, thought...           11.0  \n",
            "29997  this is a traditional late summer early fall s...            NaN  \n",
            "29999  i've heard of the 'cookies by design' company,...           10.0  \n",
            "\n",
            "[27661 rows x 8 columns]\n"
          ]
        }
      ]
    },
    {
      "cell_type": "markdown",
      "metadata": {
        "id": "dXa4dmw7Xjg8"
      },
      "source": [
        "### Работа со строковыми данными в `pandas`"
      ]
    },
    {
      "cell_type": "markdown",
      "metadata": {
        "id": "2ywXKYafXjg8"
      },
      "source": [
        "3.1  Добавьте в таблицу `recipes` столбец `description_length`, в котором хранится длина описания рецепта из столбца `description`."
      ]
    },
    {
      "cell_type": "code",
      "source": [
        "recipe['description_lengt'] = recipe['description'].str.count(r'\\s+')+1\n",
        "print(recipe)"
      ],
      "metadata": {
        "colab": {
          "base_uri": "https://localhost:8080/"
        },
        "id": "wzmDYFqvAryf",
        "outputId": "88080305-9c61-465a-80b1-c9b97317caa4"
      },
      "execution_count": null,
      "outputs": [
        {
          "output_type": "stream",
          "name": "stdout",
          "text": [
            "                                               name      id  minutes  \\\n",
            "0             george s at the cove  black bean soup   44123       90   \n",
            "1                healthy for them  yogurt popsicles   67664       10   \n",
            "2                      i can t believe it s spinach   38798       30   \n",
            "3                              italian  gut busters   35173       45   \n",
            "4          love is in the air  beef fondue   sauces   84797       25   \n",
            "...                                             ...     ...      ...   \n",
            "29995  zurie s holey rustic olive and cheddar bread  267661       80   \n",
            "29996          zwetschgenkuchen  bavarian plum cake  386977      240   \n",
            "29997   zwiebelkuchen   southwest german onion cake  103312       75   \n",
            "29998                                   zydeco soup  486161       60   \n",
            "29999        cookies by design   cookies on a stick  298512       29   \n",
            "\n",
            "       contributor_id  submitted  n_steps  \\\n",
            "0               35193 2002-10-25      NaN   \n",
            "1               91970 2003-07-26      NaN   \n",
            "2                1533 2002-08-29      NaN   \n",
            "3               22724 2002-07-27      NaN   \n",
            "4                4470 2004-02-23      4.0   \n",
            "...               ...        ...      ...   \n",
            "29995          200862 2007-11-25     16.0   \n",
            "29996          177443 2009-08-24      NaN   \n",
            "29997          161745 2004-11-03      NaN   \n",
            "29998          227978 2012-08-29      NaN   \n",
            "29999          506822 2008-04-15      9.0   \n",
            "\n",
            "                                             description  n_ingredients  \\\n",
            "0      an original recipe created by chef scott meska...           18.0   \n",
            "1      my children and their friends ask for my homem...            NaN   \n",
            "2                these were so go, it surprised even me.            8.0   \n",
            "3      my sister-in-law made these for us at a family...            NaN   \n",
            "4      i think a fondue is a very romantic casual din...            NaN   \n",
            "...                                                  ...            ...   \n",
            "29995  this is based on a french recipe but i changed...           10.0   \n",
            "29996  this is a traditional fresh plum cake, thought...           11.0   \n",
            "29997  this is a traditional late summer early fall s...            NaN   \n",
            "29998  this is a delicious soup that i originally fou...            NaN   \n",
            "29999  i've heard of the 'cookies by design' company,...           10.0   \n",
            "\n",
            "       description_lengt  \n",
            "0                   61.0  \n",
            "1                   46.0  \n",
            "2                    8.0  \n",
            "3                   30.0  \n",
            "4                  113.0  \n",
            "...                  ...  \n",
            "29995               87.0  \n",
            "29996               50.0  \n",
            "29997               59.0  \n",
            "29998              119.0  \n",
            "29999               22.0  \n",
            "\n",
            "[30000 rows x 9 columns]\n"
          ]
        }
      ]
    },
    {
      "cell_type": "markdown",
      "metadata": {
        "id": "a7bubsJtXjg8"
      },
      "source": [
        "3.2 Измените название каждого рецепта в таблице `recipes` таким образом, чтобы каждое слово в названии начиналось с прописной буквы."
      ]
    },
    {
      "cell_type": "code",
      "source": [
        "recipe['name'] = recipe['name'].str.title()\n",
        "print(recipe)"
      ],
      "metadata": {
        "colab": {
          "base_uri": "https://localhost:8080/"
        },
        "id": "Vg1VcpNvEilN",
        "outputId": "28c461e3-3e95-49ff-f0ed-73efe8292173"
      },
      "execution_count": null,
      "outputs": [
        {
          "output_type": "stream",
          "name": "stdout",
          "text": [
            "                                               name      id  minutes  \\\n",
            "0             George S At The Cove  Black Bean Soup   44123       90   \n",
            "1                Healthy For Them  Yogurt Popsicles   67664       10   \n",
            "2                      I Can T Believe It S Spinach   38798       30   \n",
            "3                              Italian  Gut Busters   35173       45   \n",
            "4          Love Is In The Air  Beef Fondue   Sauces   84797       25   \n",
            "...                                             ...     ...      ...   \n",
            "29995  Zurie S Holey Rustic Olive And Cheddar Bread  267661       80   \n",
            "29996          Zwetschgenkuchen  Bavarian Plum Cake  386977      240   \n",
            "29997   Zwiebelkuchen   Southwest German Onion Cake  103312       75   \n",
            "29998                                   Zydeco Soup  486161       60   \n",
            "29999        Cookies By Design   Cookies On A Stick  298512       29   \n",
            "\n",
            "       contributor_id  submitted  n_steps  \\\n",
            "0               35193 2002-10-25      NaN   \n",
            "1               91970 2003-07-26      NaN   \n",
            "2                1533 2002-08-29      NaN   \n",
            "3               22724 2002-07-27      NaN   \n",
            "4                4470 2004-02-23      4.0   \n",
            "...               ...        ...      ...   \n",
            "29995          200862 2007-11-25     16.0   \n",
            "29996          177443 2009-08-24      NaN   \n",
            "29997          161745 2004-11-03      NaN   \n",
            "29998          227978 2012-08-29      NaN   \n",
            "29999          506822 2008-04-15      9.0   \n",
            "\n",
            "                                             description  n_ingredients  \n",
            "0      an original recipe created by chef scott meska...           18.0  \n",
            "1      my children and their friends ask for my homem...            NaN  \n",
            "2                these were so go, it surprised even me.            8.0  \n",
            "3      my sister-in-law made these for us at a family...            NaN  \n",
            "4      i think a fondue is a very romantic casual din...            NaN  \n",
            "...                                                  ...            ...  \n",
            "29995  this is based on a french recipe but i changed...           10.0  \n",
            "29996  this is a traditional fresh plum cake, thought...           11.0  \n",
            "29997  this is a traditional late summer early fall s...            NaN  \n",
            "29998  this is a delicious soup that i originally fou...            NaN  \n",
            "29999  i've heard of the 'cookies by design' company,...           10.0  \n",
            "\n",
            "[30000 rows x 8 columns]\n"
          ]
        }
      ]
    },
    {
      "cell_type": "markdown",
      "metadata": {
        "id": "0TISQaykXjg8"
      },
      "source": [
        "3.3 Добавьте в таблицу `recipes` столбец `name_word_count`, в котором хранится количество слов из названии рецепта (считайте, что слова в названии разделяются только пробелами). Обратите внимание, что между словами может располагаться несколько пробелов подряд."
      ]
    },
    {
      "cell_type": "code",
      "source": [
        "import re\n",
        "recipe['name_word_count'] = recipe['name'].str.count(r'\\s+')+1\n",
        "print(recipe)"
      ],
      "metadata": {
        "colab": {
          "base_uri": "https://localhost:8080/"
        },
        "id": "fA13MPo5FbR8",
        "outputId": "11e8ba25-5617-4cb5-deb9-4350c72a38d3"
      },
      "execution_count": null,
      "outputs": [
        {
          "output_type": "stream",
          "name": "stdout",
          "text": [
            "                                               name      id  minutes  \\\n",
            "0             George S At The Cove  Black Bean Soup   44123       90   \n",
            "1                Healthy For Them  Yogurt Popsicles   67664       10   \n",
            "2                      I Can T Believe It S Spinach   38798       30   \n",
            "3                              Italian  Gut Busters   35173       45   \n",
            "4          Love Is In The Air  Beef Fondue   Sauces   84797       25   \n",
            "...                                             ...     ...      ...   \n",
            "29995  Zurie S Holey Rustic Olive And Cheddar Bread  267661       80   \n",
            "29996          Zwetschgenkuchen  Bavarian Plum Cake  386977      240   \n",
            "29997   Zwiebelkuchen   Southwest German Onion Cake  103312       75   \n",
            "29998                                   Zydeco Soup  486161       60   \n",
            "29999        Cookies By Design   Cookies On A Stick  298512       29   \n",
            "\n",
            "       contributor_id  submitted  n_steps  \\\n",
            "0               35193 2002-10-25      NaN   \n",
            "1               91970 2003-07-26      NaN   \n",
            "2                1533 2002-08-29      NaN   \n",
            "3               22724 2002-07-27      NaN   \n",
            "4                4470 2004-02-23      4.0   \n",
            "...               ...        ...      ...   \n",
            "29995          200862 2007-11-25     16.0   \n",
            "29996          177443 2009-08-24      NaN   \n",
            "29997          161745 2004-11-03      NaN   \n",
            "29998          227978 2012-08-29      NaN   \n",
            "29999          506822 2008-04-15      9.0   \n",
            "\n",
            "                                             description  n_ingredients  \\\n",
            "0      an original recipe created by chef scott meska...           18.0   \n",
            "1      my children and their friends ask for my homem...            NaN   \n",
            "2                these were so go, it surprised even me.            8.0   \n",
            "3      my sister-in-law made these for us at a family...            NaN   \n",
            "4      i think a fondue is a very romantic casual din...            NaN   \n",
            "...                                                  ...            ...   \n",
            "29995  this is based on a french recipe but i changed...           10.0   \n",
            "29996  this is a traditional fresh plum cake, thought...           11.0   \n",
            "29997  this is a traditional late summer early fall s...            NaN   \n",
            "29998  this is a delicious soup that i originally fou...            NaN   \n",
            "29999  i've heard of the 'cookies by design' company,...           10.0   \n",
            "\n",
            "       name_word_count  \n",
            "0                    8  \n",
            "1                    5  \n",
            "2                    7  \n",
            "3                    3  \n",
            "4                    8  \n",
            "...                ...  \n",
            "29995                8  \n",
            "29996                4  \n",
            "29997                5  \n",
            "29998                2  \n",
            "29999                7  \n",
            "\n",
            "[30000 rows x 9 columns]\n"
          ]
        }
      ]
    },
    {
      "cell_type": "markdown",
      "metadata": {
        "id": "TpJO8jobXjg8"
      },
      "source": [
        "### Группировки таблиц `pd.DataFrame`"
      ]
    },
    {
      "cell_type": "markdown",
      "metadata": {
        "id": "ErU5Y3vlXjg9"
      },
      "source": [
        "4.1 Посчитайте количество рецептов, представленных каждым из участников (`contributor_id`). Какой участник добавил максимальное кол-во рецептов?"
      ]
    },
    {
      "cell_type": "code",
      "source": [
        "contr = review['user_id'].value_counts().to_frame()\n",
        "review['contributor_id'] = review.groupby(['user_id'])['user_id'].transform('count')\n",
        "print(review)\n",
        "print(review[review['contributor_id'] == review['contributor_id'].max()]['user_id'].values[0])"
      ],
      "metadata": {
        "colab": {
          "base_uri": "https://localhost:8080/"
        },
        "id": "3CNvh70VTQoq",
        "outputId": "8a5c7b52-b6ac-4e26-aaec-6ec48425976e"
      },
      "execution_count": null,
      "outputs": [
        {
          "output_type": "stream",
          "name": "stdout",
          "text": [
            "        Unnamed: 0     user_id  recipe_id        date  rating  \\\n",
            "0           370476       21752      57993  2003-05-01       5   \n",
            "1           624300      431813     142201  2007-09-16       5   \n",
            "2           187037      400708     252013  2008-01-10       4   \n",
            "3           706134  2001852463     404716  2017-12-11       5   \n",
            "4           312179       95810     129396  2008-03-14       5   \n",
            "...            ...         ...        ...         ...     ...   \n",
            "126691     1013457     1270706     335534  2009-05-17       4   \n",
            "126692      158736     2282344       8701  2012-06-03       0   \n",
            "126693     1059834      689540     222001  2008-04-08       5   \n",
            "126694      453285  2000242659     354979  2015-06-02       5   \n",
            "126695      691207      463435     415599  2010-09-30       5   \n",
            "\n",
            "                                                   review  contributor_id  \n",
            "0       Last week whole sides of frozen salmon fillet ...             103  \n",
            "1       So simple and so tasty!  I used a yellow capsi...              73  \n",
            "2       Very nice breakfast HH, easy to make and yummy...             157  \n",
            "3       These are a favorite for the holidays and so e...               1  \n",
            "4       Excellent soup!  The tomato flavor is just gre...              14  \n",
            "...                                                   ...             ...  \n",
            "126691  This recipe was great! I made it last night. I...               1  \n",
            "126692  This recipe is outstanding. I followed the rec...               1  \n",
            "126693  Well, we were not a crowd but it was a fabulou...              10  \n",
            "126694  I have been a steak eater and dedicated BBQ gr...               1  \n",
            "126695  Wonderful and simple to prepare seasoning blen...              58  \n",
            "\n",
            "[126696 rows x 7 columns]\n",
            "424680\n"
          ]
        }
      ]
    },
    {
      "cell_type": "markdown",
      "metadata": {
        "id": "XFEUoJnNXjg9"
      },
      "source": [
        "4.2 Посчитайте средний рейтинг к каждому из рецептов. Для скольких рецептов отсутствуют отзывы? Обратите внимание, что отзыв с нулевым рейтингом или не заполненным текстовым описанием не считается отсутствующим."
      ]
    },
    {
      "cell_type": "code",
      "source": [
        "review['sred_rate'] = review.groupby(['recipe_id'])['rating'].transform('mean')\n",
        "print(review)\n",
        "print(review[(review['review'].isnull()) & (review['rating'] == 0)])"
      ],
      "metadata": {
        "id": "1U8DlhrLTRDi",
        "colab": {
          "base_uri": "https://localhost:8080/"
        },
        "outputId": "a277d913-2786-417f-e690-f14b6683a4f4"
      },
      "execution_count": null,
      "outputs": [
        {
          "output_type": "stream",
          "name": "stdout",
          "text": [
            "        Unnamed: 0     user_id  recipe_id        date  rating  \\\n",
            "0           370476       21752      57993  2003-05-01       5   \n",
            "1           624300      431813     142201  2007-09-16       5   \n",
            "2           187037      400708     252013  2008-01-10       4   \n",
            "3           706134  2001852463     404716  2017-12-11       5   \n",
            "4           312179       95810     129396  2008-03-14       5   \n",
            "...            ...         ...        ...         ...     ...   \n",
            "126691     1013457     1270706     335534  2009-05-17       4   \n",
            "126692      158736     2282344       8701  2012-06-03       0   \n",
            "126693     1059834      689540     222001  2008-04-08       5   \n",
            "126694      453285  2000242659     354979  2015-06-02       5   \n",
            "126695      691207      463435     415599  2010-09-30       5   \n",
            "\n",
            "                                                   review  sred_rate  \n",
            "0       Last week whole sides of frozen salmon fillet ...   4.818182  \n",
            "1       So simple and so tasty!  I used a yellow capsi...   4.583333  \n",
            "2       Very nice breakfast HH, easy to make and yummy...   4.000000  \n",
            "3       These are a favorite for the holidays and so e...   3.727273  \n",
            "4       Excellent soup!  The tomato flavor is just gre...   5.000000  \n",
            "...                                                   ...        ...  \n",
            "126691  This recipe was great! I made it last night. I...   3.833333  \n",
            "126692  This recipe is outstanding. I followed the rec...   4.537275  \n",
            "126693  Well, we were not a crowd but it was a fabulou...   5.000000  \n",
            "126694  I have been a steak eater and dedicated BBQ gr...   3.705882  \n",
            "126695  Wonderful and simple to prepare seasoning blen...   2.500000  \n",
            "\n",
            "[126696 rows x 7 columns]\n",
            "Empty DataFrame\n",
            "Columns: [Unnamed: 0, user_id, recipe_id, date, rating, review, sred_rate]\n",
            "Index: []\n"
          ]
        }
      ]
    },
    {
      "cell_type": "markdown",
      "metadata": {
        "id": "BY2XDHMeXjg9"
      },
      "source": [
        "4.3 Посчитайте количество рецептов с разбивкой по годам создания."
      ]
    },
    {
      "cell_type": "code",
      "source": [
        "recipe['submitted'] = pd.to_datetime(recipe['submitted'])\n",
        "recipe['year'] = recipe['submitted'].dt.year\n",
        "print(recipe['year'].value_counts().to_frame())"
      ],
      "metadata": {
        "id": "QR4cdmmNTRh6",
        "colab": {
          "base_uri": "https://localhost:8080/"
        },
        "outputId": "85eda4f6-18a6-4e89-cd4e-c0557d9f901e"
      },
      "execution_count": null,
      "outputs": [
        {
          "output_type": "stream",
          "name": "stdout",
          "text": [
            "      year\n",
            "2007  4429\n",
            "2008  4029\n",
            "2006  3473\n",
            "2005  3130\n",
            "2009  2963\n",
            "2002  2644\n",
            "2003  2334\n",
            "2004  2153\n",
            "2010  1538\n",
            "2011   922\n",
            "2012   659\n",
            "2001   589\n",
            "2013   490\n",
            "1999   275\n",
            "2014   139\n",
            "2000   104\n",
            "2015    42\n",
            "2017    39\n",
            "2016    24\n",
            "2018    24\n"
          ]
        }
      ]
    },
    {
      "cell_type": "markdown",
      "metadata": {
        "id": "GD-8xxdfXjg9"
      },
      "source": [
        "### Объединение таблиц `pd.DataFrame`"
      ]
    },
    {
      "cell_type": "markdown",
      "metadata": {
        "id": "4heNtSHAXjg9"
      },
      "source": [
        "5.1 При помощи объединения таблиц, создайте `DataFrame`, состоящий из четырех столбцов: `id`, `name`, `user_id`, `rating`. Рецепты, на которые не оставлен ни один отзыв, должны отсутствовать в полученной таблице. Подтвердите правильность работы вашего кода, выбрав рецепт, не имеющий отзывов, и попытавшись найти строку, соответствующую этому рецепту, в полученном `DataFrame`."
      ]
    },
    {
      "cell_type": "code",
      "source": [
        "review.rename(columns = {'recipe_id':'id'}, inplace = True)\n",
        "recrev1 = pd.merge(recipe, review, on='id', how='outer')\n",
        "nocomm = recrev1[(recrev1['review'].isnull())]\n",
        "recrev1 = recrev1[(recrev1['review'].isnull())==False]\n",
        "recrev = recrev1[['id', 'name', 'user_id', 'rating']]\n",
        "print(recrev)\n",
        "\n",
        "n1 = np.random.choice(list(nocomm.index))\n",
        "print(f'Рандомный индекс: {n1}', nocomm.loc[n1], sep = '\\n')"
      ],
      "metadata": {
        "colab": {
          "base_uri": "https://localhost:8080/"
        },
        "id": "B26ayZSvTR-a",
        "outputId": "302dd221-f203-456e-cdf7-7a47f80cb568"
      },
      "execution_count": null,
      "outputs": [
        {
          "output_type": "stream",
          "name": "stdout",
          "text": [
            "            id                                    name    user_id  rating\n",
            "0        44123   george s at the cove  black bean soup   743566.0     5.0\n",
            "1        44123   george s at the cove  black bean soup    76503.0     5.0\n",
            "2        44123   george s at the cove  black bean soup    34206.0     5.0\n",
            "3        67664      healthy for them  yogurt popsicles   494084.0     5.0\n",
            "4        67664      healthy for them  yogurt popsicles   303445.0     5.0\n",
            "...        ...                                     ...        ...     ...\n",
            "128591  486161                             zydeco soup   305531.0     5.0\n",
            "128592  486161                             zydeco soup  1271506.0     5.0\n",
            "128593  486161                             zydeco soup   724631.0     5.0\n",
            "128594  486161                             zydeco soup   133174.0     5.0\n",
            "128595  298512  cookies by design   cookies on a stick   804234.0     1.0\n",
            "\n",
            "[126679 rows x 4 columns]\n",
            "Рандомный индекс: 17707\n",
            "name                            breyers ice cream cherry cheesecake\n",
            "id                                                           368022\n",
            "minutes                                                          20\n",
            "contributor_id                                                57042\n",
            "submitted                                       2009-04-26 00:00:00\n",
            "n_steps                                                         NaN\n",
            "description       i found this recipe in family circle magazine....\n",
            "n_ingredients                                                   NaN\n",
            "Unnamed: 0                                                      NaN\n",
            "user_id                                                         NaN\n",
            "date                                                            NaN\n",
            "rating                                                          NaN\n",
            "review                                                          NaN\n",
            "Name: 17707, dtype: object\n"
          ]
        }
      ]
    },
    {
      "cell_type": "markdown",
      "metadata": {
        "id": "_Cy9G9AuXjg9"
      },
      "source": [
        "5.2 При помощи объединения таблиц и группировок, создайте `DataFrame`, состоящий из трех столбцов: `recipe_id`, `name`, `review_count`, где столбец `review_count` содержит кол-во отзывов, оставленных на рецепт `recipe_id`. У рецептов, на которые не оставлен ни один отзыв, в столбце `review_count` должен быть указан 0. Подтвердите правильность работы вашего кода, выбрав рецепт, не имеющий отзывов, и найдя строку, соответствующую этому рецепту, в полученном `DataFrame`."
      ]
    },
    {
      "cell_type": "code",
      "source": [
        "kol = review.groupby('recipe_id')['review'].count()\n",
        "recrev1 = pd.merge(recipe, kol, left_on = 'id', right_on = 'recipe_id', how='outer')\n",
        "recrev1 = recrev1.rename(columns = {'id':'recipe_id', 'review':'review_count'}).fillna(0)\n",
        "print(recrev1)\n",
        "print(recrev1[(recrev1['review_count'] == 0.0)])"
      ],
      "metadata": {
        "id": "XaHVmSDtTSvq",
        "colab": {
          "base_uri": "https://localhost:8080/"
        },
        "outputId": "010ea9aa-3085-49fc-91c9-283c4106a69a"
      },
      "execution_count": null,
      "outputs": [
        {
          "output_type": "stream",
          "name": "stdout",
          "text": [
            "                                               name  recipe_id  minutes  \\\n",
            "0             george s at the cove  black bean soup      44123       90   \n",
            "1                healthy for them  yogurt popsicles      67664       10   \n",
            "2                      i can t believe it s spinach      38798       30   \n",
            "3                              italian  gut busters      35173       45   \n",
            "4          love is in the air  beef fondue   sauces      84797       25   \n",
            "...                                             ...        ...      ...   \n",
            "29995  zurie s holey rustic olive and cheddar bread     267661       80   \n",
            "29996          zwetschgenkuchen  bavarian plum cake     386977      240   \n",
            "29997   zwiebelkuchen   southwest german onion cake     103312       75   \n",
            "29998                                   zydeco soup     486161       60   \n",
            "29999        cookies by design   cookies on a stick     298512       29   \n",
            "\n",
            "       contributor_id  submitted  n_steps  \\\n",
            "0               35193 2002-10-25      0.0   \n",
            "1               91970 2003-07-26      0.0   \n",
            "2                1533 2002-08-29      0.0   \n",
            "3               22724 2002-07-27      0.0   \n",
            "4                4470 2004-02-23      4.0   \n",
            "...               ...        ...      ...   \n",
            "29995          200862 2007-11-25     16.0   \n",
            "29996          177443 2009-08-24      0.0   \n",
            "29997          161745 2004-11-03      0.0   \n",
            "29998          227978 2012-08-29      0.0   \n",
            "29999          506822 2008-04-15      9.0   \n",
            "\n",
            "                                             description  n_ingredients  \\\n",
            "0      an original recipe created by chef scott meska...           18.0   \n",
            "1      my children and their friends ask for my homem...            0.0   \n",
            "2                these were so go, it surprised even me.            8.0   \n",
            "3      my sister-in-law made these for us at a family...            0.0   \n",
            "4      i think a fondue is a very romantic casual din...            0.0   \n",
            "...                                                  ...            ...   \n",
            "29995  this is based on a french recipe but i changed...           10.0   \n",
            "29996  this is a traditional fresh plum cake, thought...           11.0   \n",
            "29997  this is a traditional late summer early fall s...            0.0   \n",
            "29998  this is a delicious soup that i originally fou...            0.0   \n",
            "29999  i've heard of the 'cookies by design' company,...           10.0   \n",
            "\n",
            "       review_count  \n",
            "0               3.0  \n",
            "1               8.0  \n",
            "2               3.0  \n",
            "3               1.0  \n",
            "4               8.0  \n",
            "...             ...  \n",
            "29995           4.0  \n",
            "29996           2.0  \n",
            "29997           6.0  \n",
            "29998           6.0  \n",
            "29999           1.0  \n",
            "\n",
            "[30000 rows x 9 columns]\n",
            "                                          name  recipe_id  minutes  \\\n",
            "26               pasta  with shrimp   eggplant     223349       50   \n",
            "29             secret ingredient  bbq meatloaf     342620       75   \n",
            "35           windy s  sweet and sour meatballs     276594       50   \n",
            "49     goulashy  beef stew for the slow cooker     216068      430   \n",
            "59                old bay  grilled steak fries     306590       20   \n",
            "...                                        ...        ...      ...   \n",
            "29871                       zingy potato salad      66966       45   \n",
            "29903       zucchini  mock green papaya  salad     249846       15   \n",
            "29905            zucchini and corn with cheese     256177       15   \n",
            "29951                       zucchini nut salad     178243       30   \n",
            "29979     zucchini with bell pepper and tomato     363362       13   \n",
            "\n",
            "       contributor_id  submitted  n_steps  \\\n",
            "26             452592 2007-04-18      7.0   \n",
            "29              50969 2008-12-09      9.0   \n",
            "35             341338 2008-01-05      6.0   \n",
            "49             446143 2007-03-10      0.0   \n",
            "59             337736 2008-05-31      0.0   \n",
            "...               ...        ...      ...   \n",
            "29871           76596 2003-07-16      9.0   \n",
            "29903           47541 2007-08-30      0.0   \n",
            "29905          305531 2007-09-29      4.0   \n",
            "29951          281399 2006-07-18      0.0   \n",
            "29979          344321 2009-03-29     19.0   \n",
            "\n",
            "                                             description  n_ingredients  \\\n",
            "26     a nice low carb way to feel like you are eatin...            9.0   \n",
            "29     i know what you might be thinking,'ho hum, ano...           10.0   \n",
            "35     whenever we had a potluck lunch at the office ...           14.0   \n",
            "49     noodle beef stew in the slow cooker...easy com...           13.0   \n",
            "59     found this in a magazine, yet to try, but look...           15.0   \n",
            "...                                                  ...            ...   \n",
            "29871                                                  0           12.0   \n",
            "29903  always searching for a new way to use zucchini...            0.0   \n",
            "29905  from betty crocker fresh spring recipes. i lik...            5.0   \n",
            "29951  a summertime favorite of ours and a good way t...            6.0   \n",
            "29979  the weather has been turning warmer and i have...            8.0   \n",
            "\n",
            "       review_count  \n",
            "26              0.0  \n",
            "29              0.0  \n",
            "35              0.0  \n",
            "49              0.0  \n",
            "59              0.0  \n",
            "...             ...  \n",
            "29871           0.0  \n",
            "29903           0.0  \n",
            "29905           0.0  \n",
            "29951           0.0  \n",
            "29979           0.0  \n",
            "\n",
            "[1900 rows x 9 columns]\n"
          ]
        }
      ]
    },
    {
      "cell_type": "markdown",
      "metadata": {
        "id": "AKbH7l3aXjg9"
      },
      "source": [
        "5.3. Выясните, рецепты, добавленные в каком году, имеют наименьший средний рейтинг?"
      ]
    },
    {
      "cell_type": "code",
      "source": [
        "review.rename(columns = {'recipe_id':'id'}, inplace = True)\n",
        "recrev1 = pd.merge(recipe, review, on='id', how='outer')\n",
        "recrev1['submitted'] = pd.to_datetime(recrev1['submitted'])\n",
        "recrev1['year'] = recrev1['submitted'].dt.year\n",
        "recrev1['sred_rate'] = recrev1.groupby(['id'])['rating'].transform('mean')\n",
        "print(recrev1[recrev1['sred_rate'] == recrev1['sred_rate'].min()]['year'].value_counts().idxmax())"
      ],
      "metadata": {
        "id": "0Cmccy7RTTOS",
        "colab": {
          "base_uri": "https://localhost:8080/"
        },
        "outputId": "f1614e35-12c3-4732-8894-a19b09f9cccd"
      },
      "execution_count": null,
      "outputs": [
        {
          "output_type": "stream",
          "name": "stdout",
          "text": [
            "2009\n"
          ]
        }
      ]
    },
    {
      "cell_type": "markdown",
      "metadata": {
        "id": "pwZ6o7e_Xjg9"
      },
      "source": [
        "### Сохранение таблиц `pd.DataFrame`"
      ]
    },
    {
      "cell_type": "markdown",
      "metadata": {
        "id": "BcooKwqrXjg9"
      },
      "source": [
        "6.1 Отсортируйте таблицу в порядке убывания величины столбца `name_word_count` и сохраните результаты выполнения заданий 3.1-3.3 в csv файл. "
      ]
    },
    {
      "cell_type": "code",
      "source": [
        "import re\n",
        "recipe['description_lengt'] = recipe['description'].str.count(r'\\s+')+1\n",
        "recipe['name'] = recipe['name'].str.title()\n",
        "recipe['name_word_count'] = recipe['name'].str.count(r'\\s+')+1\n",
        "recipe = recipe.sort_values('name_word_count', ascending=False)\n",
        "print(recipe)\n",
        "recipe.to_csv('recipes1', mode = 'a')"
      ],
      "metadata": {
        "id": "M10mOFmYTTxX",
        "colab": {
          "base_uri": "https://localhost:8080/"
        },
        "outputId": "dc08f91d-ecbf-4b5d-c5af-e0838b38c5d6"
      },
      "execution_count": null,
      "outputs": [
        {
          "output_type": "stream",
          "name": "stdout",
          "text": [
            "                                                    name      id  minutes  \\\n",
            "26223  Subru Uncle S Whole Green Moong Dal I Ll Be Ma...   77188       95   \n",
            "28083  Tsr Version Of T G I  Friday S Black Bean Soup...  102274       75   \n",
            "26222  Subru Uncle S Toor Ki Dal Sindhi Style  Dad  M...   76908       65   \n",
            "27876  Top Secret Recipes Version Of  I H O P  Griddl...  113346       20   \n",
            "5734   Chicken Curry Or  Cat S Vomit On A Bed Of Magg...  294898       30   \n",
            "...                                                  ...     ...      ...   \n",
            "3253                                          Blackmoons  323195      430   \n",
            "4138                                         Bushwhacker  156521       10   \n",
            "2357                                            Basbousa   12957       60   \n",
            "15052                                          Josefinas  264859       20   \n",
            "4710                                            Caramels  143615       30   \n",
            "\n",
            "       contributor_id  submitted  n_steps  \\\n",
            "26223            6357 2003-11-21      NaN   \n",
            "28083           74652 2004-10-19      9.0   \n",
            "26222            6357 2003-11-18     29.0   \n",
            "27876          175727 2005-03-14      5.0   \n",
            "5734           802799 2008-03-28     11.0   \n",
            "...               ...        ...      ...   \n",
            "3253           415934 2008-09-04      5.0   \n",
            "4138           177392 2006-02-17      1.0   \n",
            "2357            18391 2001-10-20      NaN   \n",
            "15052          498271 2007-11-11      7.0   \n",
            "4710           212088 2005-11-02      NaN   \n",
            "\n",
            "                                             description  n_ingredients  \\\n",
            "26223  my dad and mom quite enjoy this lentil curry. ...           15.0   \n",
            "28083  from www.topsecretrecipes.com i got this copyc...           16.0   \n",
            "26222  this is the lentil curry that subru uncle(our ...           15.0   \n",
            "27876  this recipe is top secret recipes version of i...            9.0   \n",
            "5734   an old family recipe that's easy to make since...           12.0   \n",
            "...                                                  ...            ...   \n",
            "3253   my mom was a newlywed in the 1950s when she fo...            NaN   \n",
            "4138   this drink is an excellent after dinner drink ...            6.0   \n",
            "2357   this is a traditional middle eastern dessert. ...            NaN   \n",
            "15052  from the junior league of corpus christi tx, t...            NaN   \n",
            "4710   i've been making these at christmas time for y...            6.0   \n",
            "\n",
            "       description_lengt  name_word_count  \n",
            "26223               63.0               15  \n",
            "28083               85.0               14  \n",
            "26222              212.0               14  \n",
            "27876               21.0               14  \n",
            "5734                28.0               13  \n",
            "...                  ...              ...  \n",
            "3253                73.0                1  \n",
            "4138                22.0                1  \n",
            "2357                12.0                1  \n",
            "15052               16.0                1  \n",
            "4710                63.0                1  \n",
            "\n",
            "[30000 rows x 10 columns]\n"
          ]
        }
      ]
    },
    {
      "cell_type": "markdown",
      "metadata": {
        "id": "TkAZC2qLXjg-"
      },
      "source": [
        "6.2 Воспользовавшись `pd.ExcelWriter`, cохраните результаты 5.1 и 5.2 в файл: на лист с названием `Рецепты с оценками` сохраните результаты выполнения 5.1; на лист с названием `Количество отзывов по рецептам` сохраните результаты выполнения 5.2."
      ]
    },
    {
      "cell_type": "code",
      "source": [
        "kol = review.groupby('recipe_id')['review'].count()\n",
        "review.rename(columns = {'recipe_id':'id'}, inplace = True)\n",
        "recrev1 = pd.merge(recipe, review, on='id', how='outer')\n",
        "nocomm = recrev1[(recrev1['review'].isnull())]\n",
        "recrev1 = recrev1[(recrev1['review'].isnull())==False]\n",
        "recrev1 = recrev1[['id', 'name', 'user_id', 'rating']]\n",
        "\n",
        "\n",
        "recrev2 = pd.merge(recrev1, kol, left_on = 'id', right_on = 'recipe_id', how='outer')\n",
        "recrev2 = recrev2.rename(columns = {'id':'recipe_id', 'review':'review_count'}).fillna(0)\n",
        "\n",
        "with pd.ExcelWriter('recrev.xlsx') as writer:\n",
        "    recrev1.to_excel(writer, sheet_name='Рецепты с оценками')\n",
        "    recrev2.to_excel(writer, sheet_name='Количество отзывов по рецептам')"
      ],
      "metadata": {
        "id": "xas6anqrTUjq"
      },
      "execution_count": null,
      "outputs": []
    },
    {
      "cell_type": "code",
      "execution_count": null,
      "metadata": {
        "id": "G-Z480wkXjg-"
      },
      "outputs": [],
      "source": []
    },
    {
      "cell_type": "code",
      "execution_count": null,
      "metadata": {
        "id": "34Q-ThZjXjg-"
      },
      "outputs": [],
      "source": []
    },
    {
      "cell_type": "markdown",
      "metadata": {
        "id": "Az_zYOblXjg-"
      },
      "source": [
        "#### [версия 2]\n",
        "* Уточнены формулировки задач 1.1, 3.3, 4.2, 5.1, 5.2, 5.3"
      ]
    },
    {
      "cell_type": "code",
      "execution_count": null,
      "metadata": {
        "id": "cDAUw32vXjg-"
      },
      "outputs": [],
      "source": []
    }
  ],
  "metadata": {
    "kernelspec": {
      "display_name": "Python 3",
      "language": "python",
      "name": "python3"
    },
    "language_info": {
      "codemirror_mode": {
        "name": "ipython",
        "version": 3
      },
      "file_extension": ".py",
      "mimetype": "text/x-python",
      "name": "python",
      "nbconvert_exporter": "python",
      "pygments_lexer": "ipython3",
      "version": "3.7.4"
    },
    "colab": {
      "provenance": [],
      "include_colab_link": true
    }
  },
  "nbformat": 4,
  "nbformat_minor": 0
}