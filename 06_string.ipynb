{
 "cells": [
  {
   "cell_type": "markdown",
   "metadata": {},
   "source": [
    "# Работа со строковыми значениями"
   ]
  },
  {
   "cell_type": "markdown",
   "metadata": {},
   "source": [
    "__Автор задач: Блохин Н.В. (NVBlokhin@fa.ru)__\n",
    "\n",
    "Материалы:\n",
    "* Макрушин С.В. Лекция \"Работа со строковыми значениям\"\n",
    "* https://pyformat.info/\n",
    "* https://docs.python.org/3/library/re.html\n",
    "    * https://docs.python.org/3/library/re.html#flags\n",
    "    * https://docs.python.org/3/library/re.html#functions\n",
    "* https://pythonru.com/primery/primery-primeneniya-regulyarnyh-vyrazheniy-v-python\n",
    "* https://kanoki.org/2019/11/12/how-to-use-regex-in-pandas/\n",
    "* https://realpython.com/nltk-nlp-python/"
   ]
  },
  {
   "cell_type": "markdown",
   "metadata": {},
   "source": [
    "## Задачи для совместного разбора"
   ]
  },
  {
   "cell_type": "markdown",
   "metadata": {},
   "source": [
    "1. Вывести на экран данные из словаря `obj` построчно в виде `k = v`, задав формат таким образом, чтобы знак равенства оказался на одной и той же позиции во всех строках. Строковые литералы обернуть в кавычки."
   ]
  },
  {
   "cell_type": "code",
   "execution_count": 1,
   "metadata": {},
   "outputs": [],
   "source": [
    "obj = {\n",
    "    \"home_page\": \"https://github.com/pypa/sampleproject\",\n",
    "    \"keywords\": \"sample setuptools development\",\n",
    "    \"license\": \"MIT\",\n",
    "}"
   ]
  },
  {
   "cell_type": "markdown",
   "metadata": {},
   "source": [
    "2. Написать регулярное выражение,которое позволит найти номера групп студентов."
   ]
  },
  {
   "cell_type": "code",
   "execution_count": 2,
   "metadata": {},
   "outputs": [
    {
     "name": "stdout",
     "output_type": "stream",
     "text": [
      "20-4\n",
      "20-3\n"
     ]
    }
   ],
   "source": [
    "import re\n",
    "import pandas as pd\n",
    "\n",
    "obj = pd.Series([\"Евгения гр.ПМ19-1\", \"Илья пм 20-4\", \"Анна 20-3\"])\n",
    "\n",
    "pattern = r'\\b(\\d{2})(-\\d+)\\b'\n",
    "\n",
    "for string in obj:\n",
    "    match = re.search(pattern, string)\n",
    "    if match:\n",
    "        print(match.group())"
   ]
  },
  {
   "cell_type": "markdown",
   "metadata": {},
   "source": [
    "3. Разбейте текст формулировки задачи 2 на слова."
   ]
  },
  {
   "cell_type": "code",
   "execution_count": 4,
   "metadata": {},
   "outputs": [
    {
     "data": {
      "text/plain": [
       "['Разбейте', 'текст', 'формулировки', 'задачи', '2', 'на', 'слова']"
      ]
     },
     "execution_count": 4,
     "metadata": {},
     "output_type": "execute_result"
    }
   ],
   "source": [
    "res = re.findall(r'\\w+', 'Разбейте текст формулировки задачи 2 на слова.')\n",
    "res"
   ]
  },
  {
   "cell_type": "markdown",
   "metadata": {},
   "source": [
    "## Лабораторная работа 6.1"
   ]
  },
  {
   "cell_type": "markdown",
   "metadata": {},
   "source": [
    "### Форматирование строк"
   ]
  },
  {
   "cell_type": "markdown",
   "metadata": {},
   "source": [
    "6\\.1\\.1\\. Загрузите данные из файла `recipes_sample.csv` (__ЛР2__) в виде `pd.DataFrame` `recipes` При помощи форматирования строк выведите информацию об id рецепта и времени выполнения 5 случайных рецептов в виде таблицы следующего вида:\n",
    "\n",
    "    \n",
    "    |      id      |  minutes  |\n",
    "    |--------------------------|\n",
    "    |    61178     |    65     |\n",
    "    |    202352    |    80     |\n",
    "    |    364322    |    150    |\n",
    "    |    26177     |    20     |\n",
    "    |    224785    |    35     |\n",
    "    \n",
    "Обратите внимание, что ширина столбцов заранее неизвестна и должна рассчитываться динамически, в зависимости от тех данных, которые были выбраны. "
   ]
  },
  {
   "cell_type": "code",
   "execution_count": 4,
   "metadata": {},
   "outputs": [
    {
     "name": "stdout",
     "output_type": "stream",
     "text": [
      "|      id      | minutes  |\n",
      "|-------------------------|\n",
      "|    45758     |    2     |\n",
      "|    508642    |    60    |\n",
      "|    424487    |    32    |\n",
      "|    57813     |    10    |\n",
      "|    223242    |    5     |\n"
     ]
    },
    {
     "data": {
      "text/plain": [
       "'m_id, m_minutes = 0, 0\\nfor y1, y2 in zip(recipe.id[n1], recipe.minutes[n1]):\\n    print(len(y1))'"
      ]
     },
     "execution_count": 4,
     "metadata": {},
     "output_type": "execute_result"
    }
   ],
   "source": [
    "import csv\n",
    "import numpy as np\n",
    "import pandas as pd\n",
    "review = pd.read_csv(r'C:\\Users\\User\\Downloads\\reviews_sample.csv', delimiter=',')\n",
    "recipe = pd.read_csv(r'C:\\Users\\User\\Downloads\\recipes_sample.csv', delimiter=',')\n",
    "review.index = review['Unnamed: 0']\n",
    " \n",
    "count_row_recipe = recipe.shape[0]\n",
    "n1 = np.random.randint(0, count_row_recipe, 5)\n",
    "   \n",
    "m_id = int(recipe.id[n1].astype(bytes).str.len().max()) + 8 \n",
    "m_minutes = int(recipe.minutes[n1].astype(bytes).str.len().max()) + 8  \n",
    "\n",
    "\n",
    "print(f\"|{'id':^{m_id}}|{'minutes':^{m_minutes}}|\")\n",
    "print(f\"|{'-'*(m_id):^{m_id}}-{'-'*(m_minutes):^{m_minutes}}|\")\n",
    "\n",
    "for x1, x2 in zip(recipe.id[n1], recipe.minutes[n1]):\n",
    "    print(f\"|{x1:^{m_id}}|{x2:^{m_minutes}}|\")\n",
    "    \n",
    "    \n",
    "\n",
    "'''m_id, m_minutes = 0, 0\n",
    "for y1, y2 in zip(recipe.id[n1], recipe.minutes[n1]):\n",
    "    print(len(y1))'''\n",
    "    \n",
    "#m_id = int(reci['id'].astype(bytes).str.len().max())\n",
    "#m_minutes = int(reci['minutes'].astype(bytes).str.len().max())\n",
    " \n",
    "#print(f\"|{recipe['id']:m_id}|{recipe['minutes']:m_minutes}|\")\n",
    "#print([f'|{x:m_id}|' for x in recipe['minutes']])"
   ]
  },
  {
   "cell_type": "markdown",
   "metadata": {},
   "source": [
    "6\\.1\\.2\\. Напишите функцию `show_info`, которая по данным о рецепте создает строку (в смысле объекта python) с описанием следующего вида:\n",
    "\n",
    "```\n",
    "\"Название Из Нескольких Слов\"\n",
    "\n",
    "1. Шаг 1\n",
    "2. Шаг 2\n",
    "----------\n",
    "Автор: contributor_id\n",
    "Среднее время приготовления: minutes минут\n",
    "```\n",
    "\n",
    "    \n",
    "Данные для создания строки получите из файлов `recipes_sample.csv` (__ЛР2__) и `steps_sample.xml` (__ЛР3__). \n",
    "Вызовите данную функцию для рецепта с id `170895` и выведите (через `print`) полученную строку на экран."
   ]
  },
  {
   "cell_type": "code",
   "execution_count": 5,
   "metadata": {},
   "outputs": [],
   "source": [
    "import requests\n",
    "from bs4 import BeautifulSoup\n",
    "import json\n",
    "with open(r'C:\\Users\\User\\Downloads\\steps_sample.xml') as f:\n",
    "    ab = BeautifulSoup(f, 'xml')\n",
    "    \n",
    "sp7 = []\n",
    "for i in ab.recipes.find_all('recipe'):\n",
    "    sp = [v.next for v in i.steps.find_all('step')]\n",
    "    sp7.append({i.find(\"id\").next: sp})\n",
    "\n",
    "with open('steps_sample.json', mode='w', encoding='utf-8') as f4: \n",
    "    json.dump(sp7, f4, indent=2)\n"
   ]
  },
  {
   "cell_type": "code",
   "execution_count": 6,
   "metadata": {},
   "outputs": [
    {
     "name": "stdout",
     "output_type": "stream",
     "text": [
      "'leeks and parsnips  sauteed or creamed'\n",
      "\n",
      "1. clean the leeks and discard the dark green portions\n",
      "2. cut the leeks lengthwise then into one-inch pieces\n",
      "3. melt the butter in a medium skillet , med\n",
      "4. heat\n",
      "5. add the garlic and fry 'til fragrant\n",
      "6. add leeks and fry until the leeks are tender , about 6-minutes\n",
      "7. meanwhile , peel and chunk the parsnips into one-inch pieces\n",
      "8. place in a steaming basket and steam 'til they are as tender as you prefer\n",
      "9. i like them fork-tender\n",
      "10. drain parsnips and add to the skillet with the leeks\n",
      "11. add salt and pepper\n",
      "12. gently sautee together for 5-minutes\n",
      "13. at this point you can serve it , or continue on and cream it:\n",
      "14. in a jar with a screw top , add the half-n-half and arrowroot\n",
      "15. shake 'til blended\n",
      "16. turn heat to low under the leeks and parsnips\n",
      "17. pour in the arrowroot mixture , stirring gently as you pour\n",
      "18. if too thick , gradually add the water\n",
      "19. let simmer for a couple of minutes\n",
      "20. taste to adjust seasoning , probably an additional 1 / 2 teaspoon salt\n",
      "21. serve warm\n",
      "----------\n",
      "Автор: 8377\n",
      "Среднее время приготовления: 27 минут\n"
     ]
    }
   ],
   "source": [
    "def show_info(n_id):\n",
    "    a1 = recipe[recipe['id'] == n_id]\n",
    "    name_id = a1['name'].values[0]\n",
    "    sp4 = []\n",
    "    for i in range(len(sp7)):\n",
    "        for k, v in sp7[i].items():\n",
    "            if k == str(n_id):\n",
    "                sp4.append(v)\n",
    "    contr_id = a1['contributor_id'].values[0]\n",
    "    minut_id = a1['minutes'].values[0]\n",
    "    print(f\"'{name_id}'\\n\")\n",
    "    for i1 in sp4:   #Вопрос: выписать два шага или все шаги\n",
    "        for i2, i3 in enumerate(i1):\n",
    "            print(f'{i2+1}. {i3}')\n",
    "    print('----------')\n",
    "    print(f'Автор: {contr_id}')\n",
    "    print(f'Среднее время приготовления: {minut_id} минут')\n",
    "    \n",
    "show_info(170895)"
   ]
  },
  {
   "cell_type": "markdown",
   "metadata": {},
   "source": [
    "## Работа с регулярными выражениями"
   ]
  },
  {
   "cell_type": "markdown",
   "metadata": {},
   "source": [
    "6\\.1\\.3\\. Напишите регулярное выражение, которое ищет следующий паттерн в строке: число (1 цифра или более), затем пробел, затем слова: hour или hours или minute или minutes. Произведите поиск по данному регулярному выражению в каждом шаге рецепта с id 25082. Выведите на экран все непустые результаты, найденные по данному шаблону."
   ]
  },
  {
   "cell_type": "code",
   "execution_count": 7,
   "metadata": {},
   "outputs": [
    {
     "name": "stdout",
     "output_type": "stream",
     "text": [
      "20 minute\n",
      "10 minute\n",
      "2 hour\n",
      "10 minute\n",
      "20 minute\n"
     ]
    }
   ],
   "source": [
    "import requests\n",
    "from bs4 import BeautifulSoup\n",
    "import json\n",
    "import re\n",
    "\n",
    "sp7 = []\n",
    "for i in ab.recipes.find_all('recipe'):\n",
    "    sp = [v.next for v in i.steps.find_all('step')]\n",
    "    sp7.append({i.find(\"id\").next: sp})\n",
    "\n",
    "with open('steps_sample.json', mode='w', encoding='utf-8') as f4: \n",
    "    json.dump(sp7, f4, indent=2)\n",
    "\n",
    "sp8 = []   \n",
    "for i in range(len(sp7)):\n",
    "    for k, v in sp7[i].items():\n",
    "        if k == '25082':\n",
    "            sp8.append(v)\n",
    "for i1 in sp8:\n",
    "    for i2 in i1:\n",
    "        match = re.search(r'\\d+\\s(hour|hours|minute|minutes)', i2)\n",
    "        if match:\n",
    "            print(match.group())"
   ]
  },
  {
   "cell_type": "markdown",
   "metadata": {},
   "source": [
    "6\\.1\\.4\\. Напишите регулярное выражение, которое ищет шаблон вида \"this..., but\" _в начале строки_ . Между словом \"this\" и частью \", but\" может находиться произвольное число букв, цифр, знаков подчеркивания и пробелов. Никаких других символов вместо многоточия быть не может. Пробел между запятой и словом \"but\" может присутствовать или отсутствовать.\n",
    "\n",
    "Используя строковые методы `pd.Series`, выясните, для каких рецептов данный шаблон содержится в тексте описания. Выведите на экран количество таких рецептов и 3 примера подходящих описаний (текст описания должен быть виден на экране полностью)."
   ]
  },
  {
   "cell_type": "code",
   "execution_count": 8,
   "metadata": {},
   "outputs": [
    {
     "name": "stdout",
     "output_type": "stream",
     "text": [
      "Количество рецептов: 3\n",
      "1)kids of all ages enjoy this...my dh loves this in the cooler months, and i could eat the whole thing myself, it is that good! make certain to use a heavy-bottomed saucepan to make this, as it will scorch easily, or it also can be made in the microwave, but you will have to keep taking it out to stir it. you can also use pancake syrup in place of the maple syrup (store-bought or homemade). if you are a cream of wheat fan, then this is a recipe you are certain to enjoy!\n",
      "\n",
      "2)wow wow wow...i don't know how to describe this...if you like kahlua and chocolate, make this! i don't mean to yell, but i can't contain myself :) several hours of chill time are required, so keep that in mind.\n",
      "\n",
      "3)nothing could be easier (or tastier!) than this... for a variation, try browning the rice in a little butter before-hand and using a cast-iron pot... yummy!\n",
      "\n"
     ]
    }
   ],
   "source": [
    "pattern1 = r'this\\.{3}.*?\\sbut'\n",
    "\n",
    "descr = recipe['description']\n",
    "p1 = pd.Series(descr).fillna('').str.contains(pattern1)\n",
    "print(f'Количество рецептов: {len(descr[p1])}')\n",
    "\n",
    "for i in range(len(descr[p1])):\n",
    "    print(f'{i+1}){descr[p1].values[i]}\\n')"
   ]
  },
  {
   "cell_type": "markdown",
   "metadata": {},
   "source": [
    "## Лабораторная 6.2"
   ]
  },
  {
   "cell_type": "markdown",
   "metadata": {},
   "source": [
    "6\\.2\\.1\\. В текстах шагов рецептов обыкновенные дроби имеют вид \"a / b\". Используя регулярные выражения, уберите в тексте шагов рецепта с id 72367 пробелы до и после символа дроби. Выведите на экран шаги этого рецепта после их изменения."
   ]
  },
  {
   "cell_type": "code",
   "execution_count": 9,
   "metadata": {},
   "outputs": [
    {
     "name": "stdout",
     "output_type": "stream",
     "text": [
      "mix butter , flour ,  1/3  c\n",
      "sugar and 1- 1/4  t\n",
      "vanilla\n",
      "press into greased 9\" springform pan\n",
      "mix cream cheese ,  1/4  c\n",
      "sugar , eggs and  1/2  t\n",
      "vanilla beating until fluffy\n",
      "pour over dough\n",
      "combine apples ,  1/3  c\n",
      "sugar and cinnamon\n",
      "arrange on top of cream cheese mixture and sprinkle with almonds\n",
      "bake at 350 for 45-55 minutes , or until tester comes out clean\n",
      "\n",
      "\n",
      "mix butter , flour ,  1/3  c\n",
      "sugar and 1- 1/4  t\n",
      "vanilla\n",
      "press into greased 9\" springform pan\n",
      "mix cream cheese ,  1/4  c\n",
      "sugar , eggs and  1/2  t\n",
      "vanilla beating until fluffy\n",
      "pour over dough\n",
      "combine apples ,  1/3  c\n",
      "sugar and cinnamon\n",
      "arrange on top of cream cheese mixture and sprinkle with almonds\n",
      "bake at 350 for 45-55 minutes , or until tester comes out clean\n"
     ]
    }
   ],
   "source": [
    "sp9 = []\n",
    "for i in range(len(sp7)):\n",
    "    for k, v in sp7[i].items():\n",
    "        if k == '72367':\n",
    "            sp9.append(v)\n",
    "            \n",
    "for i1 in sp9:  #до\n",
    "    for i2 in i1:\n",
    "        print(re.sub(r'(\\d+)\\s*/\\s*(\\d+)', r' \\1/\\2 ', str(i2)))            \n",
    "print('\\n')                       \n",
    "for i1 in sp9: #после\n",
    "    for i2 in i1:\n",
    "        print(re.sub(r'(\\d+)\\s*/\\s*(\\d+)', r' \\1/\\2 ', str(i2)))"
   ]
  },
  {
   "cell_type": "markdown",
   "metadata": {},
   "source": [
    "### Сегментация текста"
   ]
  },
  {
   "cell_type": "markdown",
   "metadata": {},
   "source": [
    "6\\.2\\.2\\. Разбейте тексты шагов рецептов на слова при помощи пакета `nltk`. Посчитайте и выведите на экран кол-во уникальных слов среди всех рецептов. Словом называется любая последовательность алфавитных символов (для проверки можно воспользоваться `str.isalpha`). При подсчете количества уникальных слов не учитывайте регистр."
   ]
  },
  {
   "cell_type": "code",
   "execution_count": 2,
   "metadata": {},
   "outputs": [
    {
     "name": "stderr",
     "output_type": "stream",
     "text": [
      "[nltk_data] Downloading package punkt to\n",
      "[nltk_data]     C:\\Users\\User\\AppData\\Roaming\\nltk_data...\n",
      "[nltk_data]   Unzipping tokenizers\\punkt.zip.\n",
      "[nltk_data] Downloading package averaged_perceptron_tagger to\n",
      "[nltk_data]     C:\\Users\\User\\AppData\\Roaming\\nltk_data...\n",
      "[nltk_data]   Unzipping taggers\\averaged_perceptron_tagger.zip.\n"
     ]
    }
   ],
   "source": [
    "import nltk\n",
    "nltk.download('punkt')\n",
    "nltk.download('averaged_perceptron_tagger')\n",
    "from nltk.tokenize import word_tokenize"
   ]
  },
  {
   "cell_type": "code",
   "execution_count": 10,
   "metadata": {},
   "outputs": [],
   "source": [
    "sp9 = []\n",
    "for i in ab.recipes.find_all('step'):\n",
    "    sp9 += (j for j in word_tokenize(i.get_text()) if j.isalpha())"
   ]
  },
  {
   "cell_type": "code",
   "execution_count": 11,
   "metadata": {},
   "outputs": [
    {
     "name": "stdout",
     "output_type": "stream",
     "text": [
      "Кол-во уникальных слов: 14926\n"
     ]
    }
   ],
   "source": [
    "uniq = set(sp9)\n",
    "print(f'Кол-во уникальных слов: {len(uniq)}')"
   ]
  },
  {
   "cell_type": "markdown",
   "metadata": {},
   "source": [
    "6\\.2\\.3\\. Разбейте описания рецептов из `recipes` на предложения при помощи пакета `nltk`. Найдите 5 самых длинных описаний (по количеству _предложений_) рецептов в датасете и выведите строки фрейма, соответствующие этим рецептами, в порядке убывания длины."
   ]
  },
  {
   "cell_type": "code",
   "execution_count": 12,
   "metadata": {},
   "outputs": [
    {
     "data": {
      "text/html": [
       "<div>\n",
       "<style scoped>\n",
       "    .dataframe tbody tr th:only-of-type {\n",
       "        vertical-align: middle;\n",
       "    }\n",
       "\n",
       "    .dataframe tbody tr th {\n",
       "        vertical-align: top;\n",
       "    }\n",
       "\n",
       "    .dataframe thead th {\n",
       "        text-align: right;\n",
       "    }\n",
       "</style>\n",
       "<table border=\"1\" class=\"dataframe\">\n",
       "  <thead>\n",
       "    <tr style=\"text-align: right;\">\n",
       "      <th></th>\n",
       "      <th>name</th>\n",
       "      <th>id</th>\n",
       "      <th>minutes</th>\n",
       "      <th>contributor_id</th>\n",
       "      <th>submitted</th>\n",
       "      <th>n_steps</th>\n",
       "      <th>description</th>\n",
       "      <th>n_ingredients</th>\n",
       "      <th>dlina_snt</th>\n",
       "    </tr>\n",
       "  </thead>\n",
       "  <tbody>\n",
       "    <tr>\n",
       "      <th>18408</th>\n",
       "      <td>my favorite buttercream icing for decorating</td>\n",
       "      <td>334113</td>\n",
       "      <td>30</td>\n",
       "      <td>681465</td>\n",
       "      <td>2008-10-30</td>\n",
       "      <td>12.0</td>\n",
       "      <td>this wonderful icing is used for icing cakes a...</td>\n",
       "      <td>NaN</td>\n",
       "      <td>76</td>\n",
       "    </tr>\n",
       "    <tr>\n",
       "      <th>481</th>\n",
       "      <td>alligator claws  avocado fritters  with chipot...</td>\n",
       "      <td>287008</td>\n",
       "      <td>45</td>\n",
       "      <td>765354</td>\n",
       "      <td>2008-02-19</td>\n",
       "      <td>NaN</td>\n",
       "      <td>a translucent golden-brown crust allows the gr...</td>\n",
       "      <td>9.0</td>\n",
       "      <td>27</td>\n",
       "    </tr>\n",
       "    <tr>\n",
       "      <th>22566</th>\n",
       "      <td>rich barley mushroom soup</td>\n",
       "      <td>328708</td>\n",
       "      <td>60</td>\n",
       "      <td>221776</td>\n",
       "      <td>2008-10-03</td>\n",
       "      <td>NaN</td>\n",
       "      <td>this is one of the best soups i've ever made a...</td>\n",
       "      <td>10.0</td>\n",
       "      <td>24</td>\n",
       "    </tr>\n",
       "    <tr>\n",
       "      <th>16296</th>\n",
       "      <td>little bunny foo foo cake  carrot cake  with c...</td>\n",
       "      <td>316000</td>\n",
       "      <td>68</td>\n",
       "      <td>689540</td>\n",
       "      <td>2008-07-27</td>\n",
       "      <td>14.0</td>\n",
       "      <td>the first time i made this cake i grated a mil...</td>\n",
       "      <td>NaN</td>\n",
       "      <td>23</td>\n",
       "    </tr>\n",
       "    <tr>\n",
       "      <th>6779</th>\n",
       "      <td>chocolate tea</td>\n",
       "      <td>205348</td>\n",
       "      <td>6</td>\n",
       "      <td>428824</td>\n",
       "      <td>2007-01-14</td>\n",
       "      <td>NaN</td>\n",
       "      <td>i wrote this because there are an astounding l...</td>\n",
       "      <td>NaN</td>\n",
       "      <td>23</td>\n",
       "    </tr>\n",
       "  </tbody>\n",
       "</table>\n",
       "</div>"
      ],
      "text/plain": [
       "                                                    name      id  minutes  \\\n",
       "18408       my favorite buttercream icing for decorating  334113       30   \n",
       "481    alligator claws  avocado fritters  with chipot...  287008       45   \n",
       "22566                          rich barley mushroom soup  328708       60   \n",
       "16296  little bunny foo foo cake  carrot cake  with c...  316000       68   \n",
       "6779                                       chocolate tea  205348        6   \n",
       "\n",
       "       contributor_id   submitted  n_steps  \\\n",
       "18408          681465  2008-10-30     12.0   \n",
       "481            765354  2008-02-19      NaN   \n",
       "22566          221776  2008-10-03      NaN   \n",
       "16296          689540  2008-07-27     14.0   \n",
       "6779           428824  2007-01-14      NaN   \n",
       "\n",
       "                                             description  n_ingredients  \\\n",
       "18408  this wonderful icing is used for icing cakes a...            NaN   \n",
       "481    a translucent golden-brown crust allows the gr...            9.0   \n",
       "22566  this is one of the best soups i've ever made a...           10.0   \n",
       "16296  the first time i made this cake i grated a mil...            NaN   \n",
       "6779   i wrote this because there are an astounding l...            NaN   \n",
       "\n",
       "       dlina_snt  \n",
       "18408         76  \n",
       "481           27  \n",
       "22566         24  \n",
       "16296         23  \n",
       "6779          23  "
      ]
     },
     "execution_count": 12,
     "metadata": {},
     "output_type": "execute_result"
    }
   ],
   "source": [
    "descr = recipe['description']\n",
    "snt = descr.fillna('').apply(nltk.sent_tokenize)\n",
    "recipe['dlina_snt'] = snt.apply(len)\n",
    "recipe.sort_values(by='dlina_snt', ascending=False).head(5)"
   ]
  },
  {
   "cell_type": "markdown",
   "metadata": {},
   "source": [
    "6\\.2\\.4\\. Напишите функцию, которая для заданного предложения выводит информацию о частях речи слов, входящих в предложение, в следующем виде:\n",
    "```\n",
    "PRP   VBD   DT      NNS     CC   VBD      NNS        RB   \n",
    " I  omitted the raspberries and added strawberries instead\n",
    "``` \n",
    "Для определения части речи слова можно воспользоваться `nltk.pos_tag`.\n",
    "\n",
    "Проверьте работоспособность функции на названии рецепта с id 241106.\n",
    "\n",
    "Обратите внимание, что часть речи должна находиться ровно посередине над соотвествующим словом, а между самими словами должен быть ровно один пробел.\n"
   ]
  },
  {
   "cell_type": "code",
   "execution_count": 45,
   "metadata": {},
   "outputs": [
    {
     "name": "stdout",
     "output_type": "stream",
     "text": [
      "   JJ     NNS    IN     NNS    VBP    JJ   CC   JJ    NNS   \n",
      "eggplant steaks with chickpeas feta cheese and black olives \n"
     ]
    }
   ],
   "source": [
    "def f5(s5):\n",
    "    a1, a2 = '', ''\n",
    "    for i1, i2 in nltk.pos_tag(nltk.word_tokenize(s5)):\n",
    "        max_i = max(len(i1), len(i2))\n",
    "        #print(i1, i2, max_i)\n",
    "        if max_i == len(i2):\n",
    "            a1 += f'{i2}'\n",
    "            a2 += f'{\" \"*((len(i2)-len(i1))//2)}{i1}{\" \"*((len(i2)-len(i1))//2)}'\n",
    "\n",
    "        else:\n",
    "            a1 += f'{\" \"*((len(i1)-len(i2))//2)}{i2}{\" \"*((len(i1)-len(i2))//2)} '\n",
    "            a2 += f'{i1} '\n",
    "            if (len(i1)-len(i2)) % 2 != 0:\n",
    "                a1 += ' '\n",
    "\n",
    "    print(a1)\n",
    "    print(a2)\n",
    "    \n",
    "f5(recipe[recipe['id'] == 241106]['name'].values[0])"
   ]
  },
  {
   "cell_type": "code",
   "execution_count": 46,
   "metadata": {},
   "outputs": [
    {
     "name": "stdout",
     "output_type": "stream",
     "text": [
      "PRP  VBD   DT      NNS     CC   VBD      NNS        RB    \n",
      " I omitted the raspberries and added strawberries instead \n"
     ]
    }
   ],
   "source": [
    "f5('I  omitted the raspberries and added strawberries instead')"
   ]
  }
 ],
 "metadata": {
  "kernelspec": {
   "display_name": "Python 3 (ipykernel)",
   "language": "python",
   "name": "python3"
  },
  "language_info": {
   "codemirror_mode": {
    "name": "ipython",
    "version": 3
   },
   "file_extension": ".py",
   "mimetype": "text/x-python",
   "name": "python",
   "nbconvert_exporter": "python",
   "pygments_lexer": "ipython3",
   "version": "3.10.9"
  }
 },
 "nbformat": 4,
 "nbformat_minor": 4
}
