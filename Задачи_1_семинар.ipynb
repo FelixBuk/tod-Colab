{
  "nbformat": 4,
  "nbformat_minor": 0,
  "metadata": {
    "colab": {
      "provenance": [],
      "include_colab_link": true
    },
    "kernelspec": {
      "name": "python3",
      "display_name": "Python 3"
    },
    "language_info": {
      "name": "python"
    }
  },
  "cells": [
    {
      "cell_type": "markdown",
      "metadata": {
        "id": "view-in-github",
        "colab_type": "text"
      },
      "source": [
        "<a href=\"https://colab.research.google.com/github/FelixBuk/tod-Colab/blob/main/%D0%97%D0%B0%D0%B4%D0%B0%D1%87%D0%B8_1_%D1%81%D0%B5%D0%BC%D0%B8%D0%BD%D0%B0%D1%80.ipynb\" target=\"_parent\"><img src=\"https://colab.research.google.com/assets/colab-badge.svg\" alt=\"Open In Colab\"/></a>"
      ]
    },
    {
      "cell_type": "markdown",
      "source": [
        "Сгенерировать двухмерный массив arr размерности (4, 7), состоящий из случайных действительных чисел, равномерно распределенных в диапазоне от 0 до 20. Нормализовать значения массива с помощью преобразования вида  ax+b  так, что после нормализации максимальный элемент масcива будет равен 1.0, минимальный 0.0\n"
      ],
      "metadata": {
        "id": "zXFVBdwD6S8T"
      }
    },
    {
      "cell_type": "code",
      "execution_count": null,
      "metadata": {
        "colab": {
          "base_uri": "https://localhost:8080/"
        },
        "id": "w-cvTolG6Q2f",
        "outputId": "20daba95-695a-4043-85ba-ad433d8b0182"
      },
      "outputs": [
        {
          "output_type": "stream",
          "name": "stdout",
          "text": [
            "[[13.79192273 14.32676666  9.56383297  3.31024679 12.58244785  8.08769627\n",
            "   7.72881111]\n",
            " [ 8.83926006 14.12530614  6.99401099 17.42738382  3.52583362  5.35312881\n",
            "   3.51059289]\n",
            " [ 2.27746385 14.93375761 10.93914217 16.41453491  8.88736452  0.99283058\n",
            "   7.87815404]\n",
            " [ 2.21191909  2.10768116 15.82056117  2.26755862  2.54953673  6.20825139\n",
            "   1.5516657 ]]\n"
          ]
        }
      ],
      "source": [
        "import numpy as np #\n",
        "a1 = np.random.normal(0, 20, (4, 7))\n",
        "print(np.random.uniform(0, 20, (4, 7)))"
      ]
    },
    {
      "cell_type": "markdown",
      "source": [
        "\n",
        "Создать матрицу 8 на 10 из случайных целых (используя модуль numpy.random) чисел из диапозона от 0 до 10 и найти в ней строку (ее индекс и вывести саму строку), в которой сумма значений минимальна."
      ],
      "metadata": {
        "id": "u_w4FqBW6WUC"
      }
    },
    {
      "cell_type": "code",
      "source": [
        "a2 = np.random.randint(0, 20, (8, 10))\n",
        "print(a2)\n",
        "s = np.sum(a2, axis = 1)\n",
        "ind = np.argmin(s)\n",
        "print(ind)\n",
        "print(a2[ind])"
      ],
      "metadata": {
        "colab": {
          "base_uri": "https://localhost:8080/"
        },
        "id": "98kaOrlT6dFD",
        "outputId": "4ae0b4c4-2e17-4556-f89a-9e0cb037a74e"
      },
      "execution_count": null,
      "outputs": [
        {
          "output_type": "stream",
          "name": "stdout",
          "text": [
            "[[ 8 18  6 15  7 12  5  0  1  4]\n",
            " [ 7 11  4 18 19 11  0 16 10  5]\n",
            " [13  5  3 10 12 12  4  6 17 18]\n",
            " [16  5 13 18  7  9 11  3  6 18]\n",
            " [ 9  2  0 19 11 10  8 13  3  1]\n",
            " [15 11  8 18  1 12 14 10 17  2]\n",
            " [13  0 15 14 17  7 12  0 14  8]\n",
            " [ 5  4 17  1 11  1  1 13  7  0]]\n",
            "7\n",
            "[ 5  4 17  1 11  1  1 13  7  0]\n"
          ]
        }
      ]
    },
    {
      "cell_type": "markdown",
      "source": [
        "Найти евклидово расстояние между двумя одномерными векторами одинаковой размерности."
      ],
      "metadata": {
        "id": "hEMYpNnk6dpK"
      }
    },
    {
      "cell_type": "code",
      "source": [
        "from scipy.spatial import distance\n",
        "a = [1, 2, 3]\n",
        "b = [4, 5, 6]\n",
        "print(distance.euclidean(a, b))"
      ],
      "metadata": {
        "colab": {
          "base_uri": "https://localhost:8080/"
        },
        "id": "tLxCxjEo6iOE",
        "outputId": "d3de6719-0a69-4b93-d000-01858f7ec694"
      },
      "execution_count": null,
      "outputs": [
        {
          "output_type": "stream",
          "name": "stdout",
          "text": [
            "5.196152422706632\n"
          ]
        }
      ]
    },
    {
      "cell_type": "markdown",
      "source": [
        "Решить матричное уравнение A*X*B=-C - найти матрицу X. Где A = [[-1, 2, 4], [-3, 1, 2], [-3, 0, 1]], B=[[3, -1], [2, 1]], C=[[7, 21], [11, 8], [8, 4]]."
      ],
      "metadata": {
        "id": "xXFADUHf6kab"
      }
    },
    {
      "cell_type": "code",
      "source": [
        "import numpy as np\n",
        "a = np.array([[-1, 2, 4], [-3, 1, 2], [-3, 0, 1]])\n",
        "b=np.array([[3, -1], [2, 1]])\n",
        "c=np.array([[7, 21], [11, 8], [8, 4]])\n",
        "x1 = [[1, 1, 1], [1, 1, 1]]\n",
        "a1 = np.linalg.inv(a).dot(-c)\n",
        "a2 = a1.dot(np.linalg.inv(b))\n",
        "print(a2)"
      ],
      "metadata": {
        "colab": {
          "base_uri": "https://localhost:8080/"
        },
        "id": "rLZOHLPx6klb",
        "outputId": "ca79433a-10e4-427e-86ca-87ee077b7a7a"
      },
      "execution_count": null,
      "outputs": [
        {
          "output_type": "stream",
          "name": "stdout",
          "text": [
            "[[ 1.00000000e+00  5.32907052e-16]\n",
            " [-2.00000000e+00  1.00000000e+00]\n",
            " [ 3.00000000e+00 -4.00000000e+00]]\n"
          ]
        }
      ]
    }
  ]
}