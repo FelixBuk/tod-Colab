{
  "nbformat": 4,
  "nbformat_minor": 0,
  "metadata": {
    "colab": {
      "provenance": [],
      "authorship_tag": "ABX9TyPC30CialtAtxa8muzNNCrE",
      "include_colab_link": true
    },
    "kernelspec": {
      "name": "python3",
      "display_name": "Python 3"
    },
    "language_info": {
      "name": "python"
    }
  },
  "cells": [
    {
      "cell_type": "markdown",
      "metadata": {
        "id": "view-in-github",
        "colab_type": "text"
      },
      "source": [
        "<a href=\"https://colab.research.google.com/github/FelixBuk/tod-Colab/blob/main/%D0%A1%D0%B5%D0%BC%D0%B8%D0%BD%D0%B0%D1%80_1.ipynb\" target=\"_parent\"><img src=\"https://colab.research.google.com/assets/colab-badge.svg\" alt=\"Open In Colab\"/></a>"
      ]
    },
    {
      "cell_type": "markdown",
      "source": [
        "1.Создать в numpy матрицу 11 на 7 вида: [[1, 2, 3, ..., 7], [11, 12, 13, ..., 17], [21, 22, 23, ..., 27], ..., [101, 102, 103, ..., 107]]"
      ],
      "metadata": {
        "id": "yFP_GynLl-t_"
      }
    },
    {
      "cell_type": "code",
      "source": [
        "import numpy as np\n",
        "a1 = np.array([range(i, i + 7) for i in [v for v in range(1, 102, 10)]])\n",
        "print(a1)"
      ],
      "metadata": {
        "colab": {
          "base_uri": "https://localhost:8080/"
        },
        "id": "jJh7g1-gmADO",
        "outputId": "d36fca97-cec2-481e-f4de-f131539efbf4"
      },
      "execution_count": null,
      "outputs": [
        {
          "output_type": "stream",
          "name": "stdout",
          "text": [
            "[[  1   2   3   4   5   6   7]\n",
            " [ 11  12  13  14  15  16  17]\n",
            " [ 21  22  23  24  25  26  27]\n",
            " [ 31  32  33  34  35  36  37]\n",
            " [ 41  42  43  44  45  46  47]\n",
            " [ 51  52  53  54  55  56  57]\n",
            " [ 61  62  63  64  65  66  67]\n",
            " [ 71  72  73  74  75  76  77]\n",
            " [ 81  82  83  84  85  86  87]\n",
            " [ 91  92  93  94  95  96  97]\n",
            " [101 102 103 104 105 106 107]]\n"
          ]
        }
      ]
    },
    {
      "cell_type": "markdown",
      "source": [
        "2.Средствами numpy рассчитать произведения четных чисел от 2 до 20 на ближайшие к ним бОльшие нечетные числа."
      ],
      "metadata": {
        "id": "_WUhA39gmBWW"
      }
    },
    {
      "cell_type": "code",
      "execution_count": null,
      "metadata": {
        "colab": {
          "base_uri": "https://localhost:8080/"
        },
        "id": "azMyRmbvlGif",
        "outputId": "9bbe865f-7603-40d2-f452-9c86245600a3"
      },
      "outputs": [
        {
          "output_type": "stream",
          "name": "stdout",
          "text": [
            "[ 5  9 13 17 21 25 29 33 37 41]\n"
          ]
        }
      ],
      "source": [
        "print(np.arange(2, 21, 2)+np.arange(3, 22, 2))"
      ]
    },
    {
      "cell_type": "markdown",
      "source": [
        "3.Создать две матрицы 30 на 3 из случайных целых чисел из диапазона от 0 до 10 и найти все значения первой матрицы, которые больше соответсвующих (по расположению) значений второй матрицы. Подсчитать сумму этих значений."
      ],
      "metadata": {
        "id": "BPasuXvLmCJm"
      }
    },
    {
      "cell_type": "code",
      "source": [
        "a3 = np.random.randint(0, 10, (3, 3))\n",
        "b3 = np.random.randint(0, 10, (3, 3))\n",
        "print(a3)\n",
        "print(b3)\n",
        "print(a3[a3>b3].sum())"
      ],
      "metadata": {
        "colab": {
          "base_uri": "https://localhost:8080/"
        },
        "id": "ygjI3xDOmCgS",
        "outputId": "305cbb66-8766-4645-c3e3-46458046faab"
      },
      "execution_count": null,
      "outputs": [
        {
          "output_type": "stream",
          "name": "stdout",
          "text": [
            "[[2 4 2]\n",
            " [0 7 6]\n",
            " [3 4 6]]\n",
            "[[5 5 5]\n",
            " [8 2 3]\n",
            " [7 9 7]]\n",
            "13\n"
          ]
        }
      ]
    },
    {
      "cell_type": "markdown",
      "source": [
        "4.Написать функцию, которая для целых значений n и m будет возвращать матрицу размера n на m, заполненную текстурой размера 2 на 2 состоящей из следующий значений:\n",
        "0 1\n",
        "\n",
        "2 3\n",
        "Пример для n=5 и m = 4:\n",
        "\n",
        "0 1 0 1 0\n",
        "\n",
        "2 3 2 3 2\n",
        "\n",
        "0 1 0 1 0\n",
        "\n",
        "2 3 2 3 2"
      ],
      "metadata": {
        "id": "wOTRR7WwmDA2"
      }
    },
    {
      "cell_type": "code",
      "source": [
        "n, m = int(input('Введите значение n: ')), int(input('Введите значение m: '))\n",
        "a4 = np.array([[0, 1], [2, 3]])\n",
        "print(np.tile(a4, (n, m))[:m, :n])"
      ],
      "metadata": {
        "colab": {
          "base_uri": "https://localhost:8080/"
        },
        "id": "E3qhB74fmDMN",
        "outputId": "54187756-cac5-4a1b-ac5d-77c4e418be66"
      },
      "execution_count": null,
      "outputs": [
        {
          "output_type": "stream",
          "name": "stdout",
          "text": [
            "Введите значение n: 5\n",
            "Введите значение m: 4\n",
            "[[0 1 0 1 0]\n",
            " [2 3 2 3 2]\n",
            " [0 1 0 1 0]\n",
            " [2 3 2 3 2]]\n"
          ]
        }
      ]
    },
    {
      "cell_type": "markdown",
      "source": [
        "5.При помощи прихотливого индексирования для двухмерного массива размерности (20, 20), состоящего из случайных целых чисел в пределах от 0 до 10 получить массив элементов находящихся на диагонали, проходящей над основной диагональю.\n"
      ],
      "metadata": {
        "id": "sH7Xa7dNmQSS"
      }
    },
    {
      "cell_type": "code",
      "source": [
        "a5 = np.random.randint(0, 11, (20, 20))\n",
        "print(a5)\n",
        "ind2 = np.arange(1, 20)\n",
        "ind1 = np.arange(19)\n",
        "print('Массив элементов находящихся на диагонали, проходящей над основной диагональю: ',a5[ind1, ind2])"
      ],
      "metadata": {
        "colab": {
          "base_uri": "https://localhost:8080/"
        },
        "id": "VE5vB-48mQi2",
        "outputId": "390f48c1-4259-4a21-ec4f-74c3589d0211"
      },
      "execution_count": null,
      "outputs": [
        {
          "output_type": "stream",
          "name": "stdout",
          "text": [
            "[[10  5  2  5  2  6  8  3  8  3  2  3  4  0  9  0  0  0 10  1]\n",
            " [ 5  3  4  4  7  0  7  0  5  2  0  7  1  2  4  2  4  8  8  8]\n",
            " [ 3  0  0  2 10  6  8  3  7  2 10  5  7  7  5 10  5  5  7  4]\n",
            " [ 8  0  1  1 10  9  9  4  4  0  5  2  0  9  2  5  7  7  0 10]\n",
            " [10  6  4  1 10  5  3  0  3  8  2  5 10  3  6  6  0  2  3  4]\n",
            " [10  1  6  6  7  3  6  1  7  1  3  6  8  3 10  8  0  6  1  2]\n",
            " [ 5 10  1  3  8  2  4  2  1  7  7 10  0  4  4  7  6  8  8  4]\n",
            " [ 1  8  4  8  9  1  1  5  3  0  6  9  2  9  6  9  3  5  3  1]\n",
            " [ 5  2  9  7  7  0  3  7  7  5  9  7  4  8  3  5  7  4  9  5]\n",
            " [ 4  3 10  9  0  0  2  1  7  1  0  8 10  5  6  0  5  7  2  8]\n",
            " [ 3  3  1  5  2 10  9  5 10 10  3 10  9  2  2  4  5  5  4  1]\n",
            " [ 3  1  1  1  4  6  1  3  1  6  3  9  4  8  0  9  4  1  6 10]\n",
            " [ 4  0  4  9  7  4  1  7  0  3  1  6  1 10  6  1  0  3  4  2]\n",
            " [ 0  8  5  9  0  5  7 10  1  1  5  8  7  2  2  1  9  2  3 10]\n",
            " [ 9  9  8  1  5  6  7  2  2  1  9  1  6  8  7  0  1  8  8  3]\n",
            " [ 2  8  5  9  8 10  7  1  9  3  0  0  6  2  3  4  5  7  4  1]\n",
            " [ 8  2  1  2  5  2 10 10  2  3  4 10  3  1 10  2  4  4  2  6]\n",
            " [ 9 10  3  6  6  9  7  4  8  8  8  5  1  8  9  7  4  7  4  8]\n",
            " [ 6  3  4 10 10  1  3 10  9  8  3  7  4 10 10 10  4  7  7  4]\n",
            " [ 8 10  8  6  5  4  1  6  1 10  1  3  5  7  8  7  9  2  1  7]]\n",
            "Массив элементов находящихся на диагонали, проходящей над основной диагональю:  [ 5  4  2 10  5  6  2  3  5  0 10  4 10  2  0  5  4  4  4]\n"
          ]
        }
      ]
    },
    {
      "cell_type": "markdown",
      "source": [
        "6.Имеется массив из 10 названий городов. При помощи прихотливой индексации сгенерировать последовательность из 100 элементов представляющих случайный выбор из названий городов."
      ],
      "metadata": {
        "id": "adajd2nvmQuM"
      }
    },
    {
      "cell_type": "code",
      "source": [
        "a6 = np.array(['Москва', 'Лондон', 'Нью-Йорк', 'Токио', 'Барселона', 'Париж', 'Берлин', 'Пекин', 'Вашингтон', 'Минск'])\n",
        "ind = np.random.randint(0, 10, (1, 100))\n",
        "print(a6[ind])"
      ],
      "metadata": {
        "colab": {
          "base_uri": "https://localhost:8080/"
        },
        "id": "-lqyQLgMmmj7",
        "outputId": "c1bf14a3-10bc-4f65-83a5-73d1762a71b1"
      },
      "execution_count": null,
      "outputs": [
        {
          "output_type": "stream",
          "name": "stdout",
          "text": [
            "[['Нью-Йорк' 'Токио' 'Вашингтон' 'Минск' 'Лондон' 'Вашингтон' 'Берлин'\n",
            "  'Пекин' 'Берлин' 'Вашингтон' 'Париж' 'Барселона' 'Париж' 'Нью-Йорк'\n",
            "  'Берлин' 'Токио' 'Лондон' 'Лондон' 'Берлин' 'Пекин' 'Барселона'\n",
            "  'Берлин' 'Пекин' 'Лондон' 'Барселона' 'Вашингтон' 'Барселона' 'Пекин'\n",
            "  'Париж' 'Токио' 'Вашингтон' 'Москва' 'Лондон' 'Париж' 'Берлин' 'Лондон'\n",
            "  'Пекин' 'Минск' 'Пекин' 'Нью-Йорк' 'Москва' 'Берлин' 'Минск' 'Нью-Йорк'\n",
            "  'Лондон' 'Париж' 'Лондон' 'Вашингтон' 'Париж' 'Барселона' 'Вашингтон'\n",
            "  'Вашингтон' 'Берлин' 'Москва' 'Вашингтон' 'Нью-Йорк' 'Нью-Йорк'\n",
            "  'Вашингтон' 'Пекин' 'Пекин' 'Лондон' 'Москва' 'Токио' 'Пекин' 'Токио'\n",
            "  'Токио' 'Вашингтон' 'Барселона' 'Париж' 'Минск' 'Лондон' 'Вашингтон'\n",
            "  'Токио' 'Токио' 'Вашингтон' 'Минск' 'Лондон' 'Минск' 'Токио' 'Пекин'\n",
            "  'Берлин' 'Токио' 'Минск' 'Берлин' 'Вашингтон' 'Лондон' 'Вашингтон'\n",
            "  'Барселона' 'Берлин' 'Токио' 'Пекин' 'Минск' 'Берлин' 'Москва' 'Париж'\n",
            "  'Берлин' 'Токио' 'Минск' 'Нью-Йорк' 'Париж']]\n"
          ]
        }
      ]
    },
    {
      "cell_type": "markdown",
      "source": [
        "7.Используя как можно меньше операций в исходном массиве \"шахматная доска\" np.zeros((8,8)) добиться расставки кодов \"шахматных фигур\"."
      ],
      "metadata": {
        "id": "KrywQApjmf5S"
      }
    },
    {
      "cell_type": "code",
      "source": [
        "a7 = np.zeros((8,8))\n",
        "a7[:2] = [[-4., -3., -2., -6., -5., -2., -3., -4.], [-1., -1., -1., -1., -1., -1., -1., -1.]]\n",
        "a7[6:] = [ [1., 1., 1., 1., 1., 1., 1., 1.], [4., 3., 2., 6., 5., 2., 3., 4.]]\n",
        "print(a7)"
      ],
      "metadata": {
        "colab": {
          "base_uri": "https://localhost:8080/"
        },
        "id": "qHxBwX0amQ2a",
        "outputId": "715d19ae-162d-4b4c-8348-11921d103cf2"
      },
      "execution_count": null,
      "outputs": [
        {
          "output_type": "stream",
          "name": "stdout",
          "text": [
            "[[-4. -3. -2. -6. -5. -2. -3. -4.]\n",
            " [-1. -1. -1. -1. -1. -1. -1. -1.]\n",
            " [ 0.  0.  0.  0.  0.  0.  0.  0.]\n",
            " [ 0.  0.  0.  0.  0.  0.  0.  0.]\n",
            " [ 0.  0.  0.  0.  0.  0.  0.  0.]\n",
            " [ 0.  0.  0.  0.  0.  0.  0.  0.]\n",
            " [ 1.  1.  1.  1.  1.  1.  1.  1.]\n",
            " [ 4.  3.  2.  6.  5.  2.  3.  4.]]\n"
          ]
        }
      ]
    },
    {
      "cell_type": "markdown",
      "source": [
        "8.Создать двухмерный массив 20 на 3, содержащийслучайные целые числа от 0 до 100. Интерпретируя массив как 20 векторов из 3х компонент, отсортировать массив по длине векторов."
      ],
      "metadata": {
        "id": "_KdNKfhFmQ-q"
      }
    },
    {
      "cell_type": "code",
      "source": [
        "a8 = np.random.randint(0, 100, (20, 3))\n",
        "b8 = np.sort(a8, axis = 1)\n",
        "print(b8)"
      ],
      "metadata": {
        "colab": {
          "base_uri": "https://localhost:8080/"
        },
        "id": "I1nJOyRmmRHC",
        "outputId": "04790484-f6cb-48e9-8ea1-6d186adeb5a0"
      },
      "execution_count": null,
      "outputs": [
        {
          "output_type": "stream",
          "name": "stdout",
          "text": [
            "[[ 9 47 63]\n",
            " [ 6 49 63]\n",
            " [39 50 86]\n",
            " [16 36 73]\n",
            " [ 5 59 83]\n",
            " [ 0 66 82]\n",
            " [18 24 77]\n",
            " [13 48 75]\n",
            " [ 6 36 45]\n",
            " [50 60 79]\n",
            " [ 3  4 90]\n",
            " [39 49 71]\n",
            " [ 7 25 91]\n",
            " [ 4 10 65]\n",
            " [75 85 89]\n",
            " [16 26 73]\n",
            " [20 42 86]\n",
            " [ 4 57 61]\n",
            " [36 54 74]\n",
            " [ 7 45 53]]\n"
          ]
        }
      ]
    },
    {
      "cell_type": "markdown",
      "source": [
        "9.Создать в numpy матрицу 11 на 7 вида: [[1, 2, 3, ..., 7], [11, 12, 13, ..., 17], [21, 22, 23, ..., 27], ..., [101, 102, 103, ..., 107]]. При решении задачи применить технику распространения."
      ],
      "metadata": {
        "id": "VCS2b3rbmRQi"
      }
    },
    {
      "cell_type": "code",
      "source": [
        "a9 = [1, 2, 3, 4, 5, 6, 7]\n",
        "b9 = [[0], [10], [20], [30], [40], [50], [60], [70], [80], [90], [100]]\n",
        "c9 = [i[0] + i[1] for i in list(np.broadcast(a9, b9))]\n",
        "print(np.array(c9).reshape(len(b9), 7))"
      ],
      "metadata": {
        "colab": {
          "base_uri": "https://localhost:8080/"
        },
        "id": "INsrsDRTmRZk",
        "outputId": "870d8878-3db1-4c66-c8b4-9bc91f391700"
      },
      "execution_count": null,
      "outputs": [
        {
          "output_type": "stream",
          "name": "stdout",
          "text": [
            "[[  1   2   3   4   5   6   7]\n",
            " [ 11  12  13  14  15  16  17]\n",
            " [ 21  22  23  24  25  26  27]\n",
            " [ 31  32  33  34  35  36  37]\n",
            " [ 41  42  43  44  45  46  47]\n",
            " [ 51  52  53  54  55  56  57]\n",
            " [ 61  62  63  64  65  66  67]\n",
            " [ 71  72  73  74  75  76  77]\n",
            " [ 81  82  83  84  85  86  87]\n",
            " [ 91  92  93  94  95  96  97]\n",
            " [101 102 103 104 105 106 107]]\n"
          ]
        }
      ]
    },
    {
      "cell_type": "markdown",
      "source": [
        "10.Создать массив из 20 случайных целых чисел от 0 до 100. Получить второе сверху значение в массиве. Опредлить индекс этого значения."
      ],
      "metadata": {
        "id": "E9VqXVvAmRr6"
      }
    },
    {
      "cell_type": "code",
      "source": [
        "a10 = np.random.randint(0, 101, 20)\n",
        "b10 = np.setdiff1d(a10, a10.max())\n",
        "print(b10.max())"
      ],
      "metadata": {
        "colab": {
          "base_uri": "https://localhost:8080/"
        },
        "id": "xCA1h5cYmR17",
        "outputId": "823b6b51-6e0b-4dc4-a639-94393b04729b"
      },
      "execution_count": null,
      "outputs": [
        {
          "output_type": "stream",
          "name": "stdout",
          "text": [
            "87\n"
          ]
        }
      ]
    },
    {
      "cell_type": "markdown",
      "source": [
        "11.Задан произвольный массив numpy (например массив из 100 случайных числе от 0 до 1). Необходимо найти в нем число наиболее близкое к заданному."
      ],
      "metadata": {
        "id": "X364zemfmR_y"
      }
    },
    {
      "cell_type": "code",
      "source": [
        "a11 = np.random.random(100)\n",
        "x = float(input('Введите значение: '))\n",
        "print(a11[np.absolute(a11-x).argmin()])"
      ],
      "metadata": {
        "colab": {
          "base_uri": "https://localhost:8080/"
        },
        "id": "uWNvMfyxmSJq",
        "outputId": "822d8f28-c94f-4369-b5e9-639288012ccd"
      },
      "execution_count": null,
      "outputs": [
        {
          "output_type": "stream",
          "name": "stdout",
          "text": [
            "Введите значение: 0.9\n",
            "0.9056904465409032\n"
          ]
        }
      ]
    },
    {
      "cell_type": "markdown",
      "source": [
        "12.Задать два двухмерных массива ar1 и ar2 размерности (4, 7), состоящих из случайных целых чисел в пределах от 0 до 10. Построить двухмерный массив размерности (4, 7), каждый элемент которого представляет собой максиум из двух значений, находящихся на аналогичной позиции в массивах ar1, ar2."
      ],
      "metadata": {
        "id": "xPBDdctkmSUy"
      }
    },
    {
      "cell_type": "code",
      "source": [
        "ar1 = np.random.randint(0, 10, (4, 7))\n",
        "ar2 = np.random.randint(0, 10, (4, 7))\n",
        "print(np.maximum(ar1, ar2))"
      ],
      "metadata": {
        "colab": {
          "base_uri": "https://localhost:8080/"
        },
        "id": "lfEI7AKmmSeK",
        "outputId": "a8b41c95-7ffa-4932-c8b8-de4504d01ac1"
      },
      "execution_count": null,
      "outputs": [
        {
          "output_type": "stream",
          "name": "stdout",
          "text": [
            "[[7 6 9 1 5 8 8]\n",
            " [6 7 5 4 8 4 5]\n",
            " [4 1 7 4 9 7 6]\n",
            " [9 8 4 7 7 9 8]]\n"
          ]
        }
      ]
    }
  ]
}